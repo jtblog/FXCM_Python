{
 "cells": [
  {
   "cell_type": "markdown",
   "metadata": {},
   "source": [
    "# Quick Start"
   ]
  },
  {
   "cell_type": "markdown",
   "metadata": {},
   "source": [
    "## Disclaimer"
   ]
  },
  {
   "cell_type": "markdown",
   "metadata": {},
   "source": [
    "FXCM Group, LLC and each of its affiliates and subsidiaries are herein referred to as, \"FXCM\".\n",
    "\n",
    "Trading forex/CFDs on margin carries a high level of risk and may not be suitable for all investors as you could sustain losses in excess of deposits. Leverage can work against you. Due to the certain restrictions imposed by the local law and regulation, German resident retail client(s) could sustain a total loss of deposited funds but are not subject to subsequent payment obligations beyond the deposited funds. Be aware and fully understand all risks associated with the market and trading. Prior to trading any products, carefully consider your financial situation and experience level. Any opinions, news, research, analyses, prices, or other information is provided as general market commentary, and does not constitute investment advice. FXCM will not accept liability for any loss or damage, including without limitation to, any loss of profit, which may arise directly or indirectly from use of or reliance on such information."
   ]
  },
  {
   "cell_type": "markdown",
   "metadata": {},
   "source": [
    "## Introduction"
   ]
  },
  {
   "cell_type": "markdown",
   "metadata": {},
   "source": [
    "FXCM provides a **RESTful API** (henceforth the \"API\") to interact with its trading platform. Among others, it allows the retrieval of **historical data** as well as of **streaming data**. In addition, it allows to place different types of **orders** and to read out **account information**. The overall goal is to allow the implementation **automated, algortithmic trading programs**."
   ]
  },
  {
   "cell_type": "markdown",
   "metadata": {},
   "source": [
    "In this documentation, you learn all about the `fxcmpy` Python wrapper package (henceforth just `fxcmpy` or \"package\")."
   ]
  },
  {
   "cell_type": "markdown",
   "metadata": {},
   "source": [
    "## Demo Account"
   ]
  },
  {
   "cell_type": "markdown",
   "metadata": {},
   "source": [
    "To get started with the the API and the package, a **demo account** with FXCM is sufficient. You can open such an account under https://www.fxcm.com/uk/algorithmic-trading/api-trading/."
   ]
  },
  {
   "cell_type": "markdown",
   "metadata": {},
   "source": [
    "## Python Installation"
   ]
  },
  {
   "cell_type": "markdown",
   "metadata": {},
   "source": [
    "`fxcmpy` works with **Python 3.4** and later. If you need to install **Python** itself and/or additional **packages**, we recommend the use of the `conda` package and environment manager. "
   ]
  },
  {
   "cell_type": "markdown",
   "metadata": {},
   "source": [
    "To this end, you can download the `Miniconda` installer from https://conda.io/miniconda.html for your operating system and get it installed."
   ]
  },
  {
   "cell_type": "markdown",
   "metadata": {},
   "source": [
    "You can then download and use the following `yaml` file to create a Python environment:\n",
    "\n",
    "http://fxcmpy.tpq.io/_static/fxcm.yml"
   ]
  },
  {
   "cell_type": "markdown",
   "metadata": {},
   "source": [
    "Having downloaded this file, the **environment** is created on the command line as follows:\n",
    "\n",
    "    conda env create -f fxcm.yml -n fxcm\n",
    "    \n",
    "Activate it under Mac OS/Linux via:\n",
    "\n",
    "    conda activate fxcm\n",
    "    \n",
    "And under Windows via:\n",
    "\n",
    "    activate fxcm\n",
    "    \n",
    "You can then start, for instance, **Jupyter** to interactively explore the examples of this documentation."
   ]
  },
  {
   "cell_type": "markdown",
   "metadata": {},
   "source": [
    "## Package Installation"
   ]
  },
  {
   "cell_type": "markdown",
   "metadata": {},
   "source": [
    "Installation via `pip` install on the command line.\n",
    "\n",
    "    pip install fxcmpy\n",
    "    \n",
    "Make sure to update/upgrade regularly via\n",
    "\n",
    "    pip install fxcmpy --upgrade"
   ]
  },
  {
   "cell_type": "markdown",
   "metadata": {},
   "source": [
    "Working in an interactive context (e.g. `IPython` or `Jupyter`), you can then check whether the package is installed via"
   ]
  },
  {
   "cell_type": "code",
   "execution_count": 1,
   "metadata": {},
   "outputs": [],
   "source": [
    "import fxcmpy"
   ]
  },
  {
   "cell_type": "code",
   "execution_count": 2,
   "metadata": {},
   "outputs": [
    {
     "data": {
      "text/plain": [
       "'1.1.15'"
      ]
     },
     "execution_count": 2,
     "metadata": {},
     "output_type": "execute_result"
    }
   ],
   "source": [
    "fxcmpy.__version__"
   ]
  },
  {
   "cell_type": "markdown",
   "metadata": {},
   "source": [
    "## API Token"
   ]
  },
  {
   "cell_type": "markdown",
   "metadata": {},
   "source": [
    "To connect to the API, you need an **API token** that you can create or revoke from within your (demo) account in the Trading Station https://tradingstation.fxcm.com/.\n",
    "\n",
    "**Important**: For Real accounts, please send **an email with you user name** to <a href=\"mailto:api@fxcm.com\">api@fxcm.com</a> to get RESTful API access and to activate your token, respectively. Demo accounts have REST API enabled by default."
   ]
  },
  {
   "cell_type": "markdown",
   "metadata": {},
   "source": [
    "In an interactive context, you can use e.g. a variable called `TOKEN` to reference your unique API token.\n",
    "\n",
    "    TOKEN = YOUR_FXCM_API_TOKEN"
   ]
  },
  {
   "cell_type": "markdown",
   "metadata": {},
   "source": [
    "Connecting to the server, then boils down to the following line of code.\n",
    "\n",
    "    con = fxcmpy.fxcmpy(access_token=TOKEN, log_level='error')"
   ]
  },
  {
   "cell_type": "markdown",
   "metadata": {},
   "source": [
    "However, it is recommended to store the API token in a **configuration file** which allows for re-usability and hides the token on the GUI level. The file should contain the following lines."
   ]
  },
  {
   "cell_type": "markdown",
   "metadata": {},
   "source": [
    "    [FXCM]\n",
    "    log_level = error\n",
    "    log_file = PATH_TO_AND_NAME_OF_LOG_FILE\n",
    "    access_token = YOUR_FXCM_API_TOKEN"
   ]
  },
  {
   "cell_type": "markdown",
   "metadata": {},
   "source": [
    "It is assumed onwards that this file is in the current working directory and that its name is `fxcm.cfg`.\n",
    "\n",
    "With such a configuration file in the current working directory, only the filename need to be passed as a parameter to **connect to the API**."
   ]
  },
  {
   "cell_type": "code",
   "execution_count": 3,
   "metadata": {},
   "outputs": [],
   "source": [
    "con = fxcmpy.fxcmpy(config_file='fxcm.cfg')"
   ]
  },
  {
   "cell_type": "markdown",
   "metadata": {},
   "source": [
    "By default, the class connects to the `demo` server.\n",
    "\n",
    "    con = fxcmpy.fxcmpy(config_file='fxcm.cfg', server='demo')\n",
    "    \n",
    "To connect to the live server, the `server` parameter must be set to `real`.\n",
    "\n",
    "    con = fxcmpy.fxcmpy(config_file='fxcm.cfg', server='real')"
   ]
  },
  {
   "cell_type": "markdown",
   "metadata": {},
   "source": [
    "## First Steps"
   ]
  },
  {
   "cell_type": "markdown",
   "metadata": {},
   "source": [
    "Having established the connection to the API, data retrieval is straightforward.\n",
    "\n",
    "For example, you can look up which **instruments** are available via the `con.get_instruments()` method."
   ]
  },
  {
   "cell_type": "code",
   "execution_count": 4,
   "metadata": {},
   "outputs": [
    {
     "name": "stdout",
     "output_type": "stream",
     "text": [
      "['EUR/USD', 'USD/JPY', 'GBP/USD', 'USD/CHF', 'EUR/CHF', 'AUD/USD', 'USD/CAD', 'NZD/USD', 'EUR/GBP', 'EUR/JPY', 'GBP/JPY', 'CHF/JPY', 'GBP/CHF', 'EUR/AUD', 'EUR/CAD', 'AUD/CAD', 'AUD/JPY', 'CAD/JPY', 'NZD/JPY', 'GBP/CAD', 'GBP/NZD', 'GBP/AUD', 'AUD/NZD', 'USD/SEK', 'EUR/SEK', 'EUR/NOK', 'USD/NOK', 'USD/MXN', 'AUD/CHF', 'EUR/NZD', 'USD/ZAR', 'USD/HKD', 'ZAR/JPY', 'USD/TRY', 'EUR/TRY', 'NZD/CHF', 'CAD/CHF', 'NZD/CAD', 'TRY/JPY', 'USD/CNH', 'AUS200', 'ESP35', 'FRA40', 'GER30', 'HKG33', 'JPN225', 'NAS100', 'SPX500', 'UK100', 'US30', 'Copper', 'CHN50', 'EUSTX50', 'USDOLLAR', 'USOil', 'UKOil', 'SOYF', 'NGAS', 'Bund', 'XAU/USD', 'XAG/USD']\n"
     ]
    }
   ],
   "source": [
    "print(con.get_instruments())"
   ]
  },
  {
   "cell_type": "markdown",
   "metadata": {},
   "source": [
    "Simlarly, **historical data** is retrieved via the `con.get_cancles()` method."
   ]
  },
  {
   "cell_type": "code",
   "execution_count": 5,
   "metadata": {},
   "outputs": [],
   "source": [
    "data = con.get_candles('EUR/USD', period='m1', number=250)"
   ]
  },
  {
   "cell_type": "code",
   "execution_count": 6,
   "metadata": {},
   "outputs": [
    {
     "data": {
      "text/html": [
       "<div>\n",
       "<style scoped>\n",
       "    .dataframe tbody tr th:only-of-type {\n",
       "        vertical-align: middle;\n",
       "    }\n",
       "\n",
       "    .dataframe tbody tr th {\n",
       "        vertical-align: top;\n",
       "    }\n",
       "\n",
       "    .dataframe thead th {\n",
       "        text-align: right;\n",
       "    }\n",
       "</style>\n",
       "<table border=\"1\" class=\"dataframe\">\n",
       "  <thead>\n",
       "    <tr style=\"text-align: right;\">\n",
       "      <th></th>\n",
       "      <th>bidopen</th>\n",
       "      <th>bidclose</th>\n",
       "      <th>bidhigh</th>\n",
       "      <th>bidlow</th>\n",
       "      <th>askopen</th>\n",
       "      <th>askclose</th>\n",
       "      <th>askhigh</th>\n",
       "      <th>asklow</th>\n",
       "      <th>tickqty</th>\n",
       "    </tr>\n",
       "    <tr>\n",
       "      <th>date</th>\n",
       "      <th></th>\n",
       "      <th></th>\n",
       "      <th></th>\n",
       "      <th></th>\n",
       "      <th></th>\n",
       "      <th></th>\n",
       "      <th></th>\n",
       "      <th></th>\n",
       "      <th></th>\n",
       "    </tr>\n",
       "  </thead>\n",
       "  <tbody>\n",
       "    <tr>\n",
       "      <th>2018-04-18 03:59:00</th>\n",
       "      <td>1.23819</td>\n",
       "      <td>1.23816</td>\n",
       "      <td>1.23820</td>\n",
       "      <td>1.23815</td>\n",
       "      <td>1.23819</td>\n",
       "      <td>1.23817</td>\n",
       "      <td>1.23821</td>\n",
       "      <td>1.23817</td>\n",
       "      <td>46</td>\n",
       "    </tr>\n",
       "    <tr>\n",
       "      <th>2018-04-18 04:00:00</th>\n",
       "      <td>1.23816</td>\n",
       "      <td>1.23816</td>\n",
       "      <td>1.23817</td>\n",
       "      <td>1.23815</td>\n",
       "      <td>1.23817</td>\n",
       "      <td>1.23817</td>\n",
       "      <td>1.23818</td>\n",
       "      <td>1.23815</td>\n",
       "      <td>29</td>\n",
       "    </tr>\n",
       "    <tr>\n",
       "      <th>2018-04-18 04:01:00</th>\n",
       "      <td>1.23816</td>\n",
       "      <td>1.23816</td>\n",
       "      <td>1.23816</td>\n",
       "      <td>1.23815</td>\n",
       "      <td>1.23817</td>\n",
       "      <td>1.23817</td>\n",
       "      <td>1.23817</td>\n",
       "      <td>1.23817</td>\n",
       "      <td>7</td>\n",
       "    </tr>\n",
       "    <tr>\n",
       "      <th>2018-04-18 04:02:00</th>\n",
       "      <td>1.23816</td>\n",
       "      <td>1.23800</td>\n",
       "      <td>1.23816</td>\n",
       "      <td>1.23799</td>\n",
       "      <td>1.23817</td>\n",
       "      <td>1.23801</td>\n",
       "      <td>1.23817</td>\n",
       "      <td>1.23801</td>\n",
       "      <td>58</td>\n",
       "    </tr>\n",
       "    <tr>\n",
       "      <th>2018-04-18 04:03:00</th>\n",
       "      <td>1.23801</td>\n",
       "      <td>1.23803</td>\n",
       "      <td>1.23803</td>\n",
       "      <td>1.23801</td>\n",
       "      <td>1.23802</td>\n",
       "      <td>1.23803</td>\n",
       "      <td>1.23803</td>\n",
       "      <td>1.23802</td>\n",
       "      <td>2</td>\n",
       "    </tr>\n",
       "  </tbody>\n",
       "</table>\n",
       "</div>"
      ],
      "text/plain": [
       "                     bidopen  bidclose  bidhigh   bidlow  askopen  askclose  \\\n",
       "date                                                                          \n",
       "2018-04-18 03:59:00  1.23819   1.23816  1.23820  1.23815  1.23819   1.23817   \n",
       "2018-04-18 04:00:00  1.23816   1.23816  1.23817  1.23815  1.23817   1.23817   \n",
       "2018-04-18 04:01:00  1.23816   1.23816  1.23816  1.23815  1.23817   1.23817   \n",
       "2018-04-18 04:02:00  1.23816   1.23800  1.23816  1.23799  1.23817   1.23801   \n",
       "2018-04-18 04:03:00  1.23801   1.23803  1.23803  1.23801  1.23802   1.23803   \n",
       "\n",
       "                     askhigh   asklow  tickqty  \n",
       "date                                            \n",
       "2018-04-18 03:59:00  1.23821  1.23817       46  \n",
       "2018-04-18 04:00:00  1.23818  1.23815       29  \n",
       "2018-04-18 04:01:00  1.23817  1.23817        7  \n",
       "2018-04-18 04:02:00  1.23817  1.23801       58  \n",
       "2018-04-18 04:03:00  1.23803  1.23802        2  "
      ]
     },
     "execution_count": 6,
     "metadata": {},
     "output_type": "execute_result"
    }
   ],
   "source": [
    "data.head()"
   ]
  },
  {
   "cell_type": "code",
   "execution_count": 7,
   "metadata": {},
   "outputs": [
    {
     "data": {
      "text/html": [
       "<div>\n",
       "<style scoped>\n",
       "    .dataframe tbody tr th:only-of-type {\n",
       "        vertical-align: middle;\n",
       "    }\n",
       "\n",
       "    .dataframe tbody tr th {\n",
       "        vertical-align: top;\n",
       "    }\n",
       "\n",
       "    .dataframe thead th {\n",
       "        text-align: right;\n",
       "    }\n",
       "</style>\n",
       "<table border=\"1\" class=\"dataframe\">\n",
       "  <thead>\n",
       "    <tr style=\"text-align: right;\">\n",
       "      <th></th>\n",
       "      <th>bidopen</th>\n",
       "      <th>bidclose</th>\n",
       "      <th>bidhigh</th>\n",
       "      <th>bidlow</th>\n",
       "      <th>askopen</th>\n",
       "      <th>askclose</th>\n",
       "      <th>askhigh</th>\n",
       "      <th>asklow</th>\n",
       "      <th>tickqty</th>\n",
       "    </tr>\n",
       "    <tr>\n",
       "      <th>date</th>\n",
       "      <th></th>\n",
       "      <th></th>\n",
       "      <th></th>\n",
       "      <th></th>\n",
       "      <th></th>\n",
       "      <th></th>\n",
       "      <th></th>\n",
       "      <th></th>\n",
       "      <th></th>\n",
       "    </tr>\n",
       "  </thead>\n",
       "  <tbody>\n",
       "    <tr>\n",
       "      <th>2018-04-18 08:06:00</th>\n",
       "      <td>1.23699</td>\n",
       "      <td>1.23697</td>\n",
       "      <td>1.23702</td>\n",
       "      <td>1.23692</td>\n",
       "      <td>1.23701</td>\n",
       "      <td>1.23698</td>\n",
       "      <td>1.23705</td>\n",
       "      <td>1.23693</td>\n",
       "      <td>149</td>\n",
       "    </tr>\n",
       "    <tr>\n",
       "      <th>2018-04-18 08:07:00</th>\n",
       "      <td>1.23697</td>\n",
       "      <td>1.23690</td>\n",
       "      <td>1.23697</td>\n",
       "      <td>1.23683</td>\n",
       "      <td>1.23697</td>\n",
       "      <td>1.23692</td>\n",
       "      <td>1.23699</td>\n",
       "      <td>1.23685</td>\n",
       "      <td>148</td>\n",
       "    </tr>\n",
       "    <tr>\n",
       "      <th>2018-04-18 08:08:00</th>\n",
       "      <td>1.23691</td>\n",
       "      <td>1.23683</td>\n",
       "      <td>1.23700</td>\n",
       "      <td>1.23678</td>\n",
       "      <td>1.23693</td>\n",
       "      <td>1.23684</td>\n",
       "      <td>1.23702</td>\n",
       "      <td>1.23681</td>\n",
       "      <td>330</td>\n",
       "    </tr>\n",
       "    <tr>\n",
       "      <th>2018-04-18 08:09:00</th>\n",
       "      <td>1.23683</td>\n",
       "      <td>1.23688</td>\n",
       "      <td>1.23697</td>\n",
       "      <td>1.23682</td>\n",
       "      <td>1.23684</td>\n",
       "      <td>1.23688</td>\n",
       "      <td>1.23698</td>\n",
       "      <td>1.23684</td>\n",
       "      <td>171</td>\n",
       "    </tr>\n",
       "    <tr>\n",
       "      <th>2018-04-18 08:10:00</th>\n",
       "      <td>1.23688</td>\n",
       "      <td>1.23692</td>\n",
       "      <td>1.23699</td>\n",
       "      <td>1.23682</td>\n",
       "      <td>1.23688</td>\n",
       "      <td>1.23694</td>\n",
       "      <td>1.23700</td>\n",
       "      <td>1.23683</td>\n",
       "      <td>271</td>\n",
       "    </tr>\n",
       "  </tbody>\n",
       "</table>\n",
       "</div>"
      ],
      "text/plain": [
       "                     bidopen  bidclose  bidhigh   bidlow  askopen  askclose  \\\n",
       "date                                                                          \n",
       "2018-04-18 08:06:00  1.23699   1.23697  1.23702  1.23692  1.23701   1.23698   \n",
       "2018-04-18 08:07:00  1.23697   1.23690  1.23697  1.23683  1.23697   1.23692   \n",
       "2018-04-18 08:08:00  1.23691   1.23683  1.23700  1.23678  1.23693   1.23684   \n",
       "2018-04-18 08:09:00  1.23683   1.23688  1.23697  1.23682  1.23684   1.23688   \n",
       "2018-04-18 08:10:00  1.23688   1.23692  1.23699  1.23682  1.23688   1.23694   \n",
       "\n",
       "                     askhigh   asklow  tickqty  \n",
       "date                                            \n",
       "2018-04-18 08:06:00  1.23705  1.23693      149  \n",
       "2018-04-18 08:07:00  1.23699  1.23685      148  \n",
       "2018-04-18 08:08:00  1.23702  1.23681      330  \n",
       "2018-04-18 08:09:00  1.23698  1.23684      171  \n",
       "2018-04-18 08:10:00  1.23700  1.23683      271  "
      ]
     },
     "execution_count": 7,
     "metadata": {},
     "output_type": "execute_result"
    }
   ],
   "source": [
    "data.tail()"
   ]
  },
  {
   "cell_type": "markdown",
   "metadata": {},
   "source": [
    "Such data can be **visualized** with standard functionality of Python and pandas, for instance."
   ]
  },
  {
   "cell_type": "code",
   "execution_count": 8,
   "metadata": {},
   "outputs": [],
   "source": [
    "from pylab import plt\n",
    "plt.style.use('seaborn')\n",
    "%matplotlib inline"
   ]
  },
  {
   "cell_type": "code",
   "execution_count": 9,
   "metadata": {},
   "outputs": [
    {
     "data": {
      "image/png": "[encoded data removed]",
      "text/plain": [
       "<matplotlib.figure.Figure at 0x110fbfe10>"
      ]
     },
     "metadata": {},
     "output_type": "display_data"
    }
   ],
   "source": [
    "data['askclose'].plot(figsize=(10, 6));"
   ]
  },
  {
   "cell_type": "markdown",
   "metadata": {},
   "source": [
    "## Resources"
   ]
  },
  {
   "cell_type": "markdown",
   "metadata": {},
   "source": [
    "If you have questions regarding **demo or full accounts**, reach out to:\n",
    "\n",
    "* <a href=\"mailto:info@fxcm.co.uk\">info@fxcm.co.uk</a>\n",
    "* +44 (0) 207 398 4050\n",
    "\n",
    "If you have questions regarding the **RESTful API**, reach out to:\n",
    "\n",
    "* <a href=\"api@fxcm.com\">api@fxcm.com</a>\n",
    "\n",
    "The **detailed documentation of the API** is found under:\n",
    "\n",
    "* https://github.com/fxcm/RestAPI\n",
    "\n",
    "The book _Python for Finance &mdash; Mastering Data-Driven Finance_ (O'Reilly) provides detailed information about the use of **Python in Finance**:\n",
    "\n",
    "* http://pff.tpq.io/.\n",
    "\n",
    "In-depth courses and programs about **Python for Algorithmic Trading**:\n",
    "\n",
    "* http://pyalgo.tpq.io\n",
    "* http://certificate.tpq.io.\n"
   ]
  },
  {
   "cell_type": "markdown",
   "metadata": {},
   "source": [
    "## License"
   ]
  },
  {
   "cell_type": "markdown",
   "metadata": {},
   "source": [
    "Here, you can download the [license text](_static/LICENSE.txt)."
   ]
  },
  {
   "cell_type": "markdown",
   "metadata": {},
   "source": [
    "Redistribution and use in source and binary forms, with or without modification, are permitted provided that the following conditions are met:\n",
    "\n",
    "1. Redistributions of source code must retain the above copyright notice, this list of conditions and the following disclaimer.\n",
    "\n",
    "2. Redistributions in binary form must reproduce the above copyright notice, this list of conditions and the following disclaimer in the documentation and/or other materials provided with the distribution.\n",
    "\n",
    "3. FXCM's name may not be used to endorse or promote products derived from this software without specific prior written permission.\n",
    "\n",
    "THIS SOFTWARE IS PROVIDED BY FXCM \"AS IS\" AND ANY EXPRESS OR IMPLIED WARRANTIES, INCLUDING, BUT NOT LIMITED TO, THE IMPLIED WARRANTIES OF MERCHANTABILITY AND FITNESS FOR A PARTICULAR PURPOSE ARE DISCLAIMED. IN NO EVENT SHALL FXCM BE LIABLE FOR ANY DIRECT, INDIRECT, INCIDENTAL, SPECIAL, EXEMPLARY, OR CONSEQUENTIAL DAMAGES (INCLUDING, BUT NOT LIMITED TO, PROCUREMENT OF SUBSTITUTE GOODS OR SERVICES; LOSS OF USE, DATA, OR PROFITS; OR BUSINESS INTERRUPTION) HOWEVER CAUSED AND ON ANY THEORY OF LIABILITY, WHETHER IN CONTRACT, STRICT LIABILITY, OR TORT (INCLUDING NEGLIGENCE OR OTHERWISE) ARISING IN ANY WAY OUT OF THE USE OF THIS SOFTWARE, EVEN IF ADVISED OF THE POSSIBILITY OF SUCH DAMAGE."
   ]
  },
  {
   "cell_type": "markdown",
   "metadata": {},
   "source": [
    "## Risk Warning"
   ]
  },
  {
   "cell_type": "markdown",
   "metadata": {},
   "source": [
    "As a condition to your use, you understand and agree that your download and/or use of the software will expose you to risks associated with the download and/or use of software, including without limitation:\n",
    "\n",
    "* risk of delays or failures in transmission, connection, or communication;\n",
    "* risks of error in the data, code, software updates or patches;\n",
    "* the risk that the software maybe discontinued, terminated or become obsolete at any time without notice;\n",
    "* modification or updates to the software may cause disruption or errors;\n",
    "* the risk that you are solely responsible to ensure you obtain and are using the most up to date version of the software, which may be modified or updated without notice; and\n",
    "* software or data may not be compatible with your equipment or for your use. \n",
    "\n",
    "You hereby agree to accept such risks including but not limited to failure of or damage to hardware, software, communication lines or systems, and/or other computer equipment. FXCM expressly disclaims any liability with respect to the foregoing."
   ]
  }
 ],
 "metadata": {
  "kernelspec": {
   "display_name": "Python 3",
   "language": "python",
   "name": "python3"
  },
  "language_info": {
   "codemirror_mode": {
    "name": "ipython",
    "version": 3
   },
   "file_extension": ".py",
   "mimetype": "text/x-python",
   "name": "python",
   "nbconvert_exporter": "python",
   "pygments_lexer": "ipython3",
   "version": "3.7.0"
  }
 },
 "nbformat": 4,
 "nbformat_minor": 2
}
