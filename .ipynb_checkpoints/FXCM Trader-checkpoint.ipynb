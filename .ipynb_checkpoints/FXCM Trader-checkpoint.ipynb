{
 "cells": [
  {
   "cell_type": "code",
   "execution_count": 1,
   "metadata": {},
   "outputs": [
    {
     "data": {
      "text/plain": [
       "True"
      ]
     },
     "execution_count": 1,
     "metadata": {},
     "output_type": "execute_result"
    }
   ],
   "source": [
    "import requests\n",
    "def connected_to_internet(url='http://www.google.com/', timeout=50):\n",
    "    try:\n",
    "        _ = requests.get(url, timeout=timeout)\n",
    "        return True\n",
    "    except requests.ConnectionError:\n",
    "        print(\"No internet connection available.\")\n",
    "    return False\n",
    "\n",
    "connected_to_internet()"
   ]
  },
  {
   "cell_type": "code",
   "execution_count": 2,
   "metadata": {},
   "outputs": [],
   "source": [
    "#!pip install -r requirements.txt\n",
    "#!pip install fxcmpy\n",
    "#!pip install forexconnect\n",
    "#!pip install sklearn\n",
    "#!pip install statsmodels\n",
    "#!pip install matplotlib\n",
    "#!pip install ipywidgets\n",
    "#!pip install scipy\n",
    "#!pip install pymysql \n",
    "#!pip install pynverse\n",
    "#!pip install datascience\n",
    "#!pip install pomegranate"
   ]
  },
  {
   "cell_type": "markdown",
   "metadata": {},
   "source": [
    "  "
   ]
  },
  {
   "cell_type": "code",
   "execution_count": 3,
   "metadata": {},
   "outputs": [],
   "source": [
    "import os\n",
    "import threading\n",
    "import time\n",
    "import importlib\n",
    "import sys\n",
    "import warnings\n",
    "mpath = os.getcwd() + '/lib'\n",
    "sys.path.append(mpath)"
   ]
  },
  {
   "cell_type": "code",
   "execution_count": 4,
   "metadata": {},
   "outputs": [],
   "source": [
    "#from forexconnect import fxcorepy\n",
    "import fxcmpyi\n",
    "import pandas\n",
    "import matplotlib\n",
    "\n",
    "import SharedObjects\n",
    "import pairs\n",
    "import Copula\n",
    "importlib.reload(Copula)\n",
    "importlib.reload(SharedObjects)\n",
    "importlib.reload(fxcmpyi)\n",
    "importlib.reload(pairs)\n",
    "\n",
    "import numpy"
   ]
  },
  {
   "cell_type": "code",
   "execution_count": 5,
   "metadata": {},
   "outputs": [],
   "source": [
    "#fxcmpy.__version__"
   ]
  },
  {
   "cell_type": "markdown",
   "metadata": {},
   "source": [
    "minutes: m1, m5, m15 and m30,\n",
    "hours: H1, H2, H3, H4, H6 and H8,\n",
    "one day: D1,\n",
    "one week: W1,\n",
    "one month: M1."
   ]
  },
  {
   "cell_type": "code",
   "execution_count": 6,
   "metadata": {},
   "outputs": [],
   "source": [
    "#Set variables\n",
    "T = 'm1' #Period\n",
    "sz = 1000; #Size\n",
    "prs = dict()\n",
    "pr_mlreg = dict()\n",
    "mlr = pandas.DataFrame()"
   ]
  },
  {
   "cell_type": "markdown",
   "metadata": {},
   "source": [
    "Get access token from https://tradingstation.fxcm.com."
   ]
  },
  {
   "cell_type": "markdown",
   "metadata": {},
   "source": [
    "demo - for account type demo"
   ]
  },
  {
   "cell_type": "markdown",
   "metadata": {},
   "source": [
    "real - for account type real"
   ]
  },
  {
   "cell_type": "code",
   "execution_count": 7,
   "metadata": {},
   "outputs": [],
   "source": [
    "con = None\n",
    "def custom():\n",
    "    global con\n",
    "    try:\n",
    "        def login():\n",
    "            global con\n",
    "            TOKEN = '2720337434ea557dea25bad4cd9ad392d70f620d'\n",
    "            con = fxcmpyi.fxcmpy(access_token=TOKEN, log_level='error', server='demo')\n",
    "            return\n",
    "        threading.Thread(target=login).start()\n",
    "    except:\n",
    "        custom()\n",
    "custom()\n",
    "#con.close()"
   ]
  },
  {
   "cell_type": "code",
   "execution_count": 8,
   "metadata": {},
   "outputs": [
    {
     "name": "stdout",
     "output_type": "stream",
     "text": [
      "True\n"
     ]
    }
   ],
   "source": [
    "if con is not None:\n",
    "    shd_obj = SharedObjects.SharedObjects(con)\n",
    "    print(con.is_connected())"
   ]
  },
  {
   "cell_type": "code",
   "execution_count": 9,
   "metadata": {},
   "outputs": [],
   "source": [
    "#Function to update data\n",
    "def price_update(data = None, dataframe = None):\n",
    "    symbol = data['Symbol']\n",
    "    def misc():\n",
    "        global pr_mlreg, mlr, shd_obj, prs\n",
    "        if (symbol in prs):\n",
    "            #pr_mlreg[symbol] = prs.get(symbol).multiple_linear_regression(prs)\n",
    "            #mlr = shd_obj.mergeall_byrow(pr_mlreg)\n",
    "            prs.get(symbol).standardize_prices()\n",
    "            resp = prs.get(symbol).co_integration(prs, shd_obj.coint_mat, shd_obj.spreads)\n",
    "            shd_obj.update(prs, resp[0], resp[1])\n",
    "    threading.Thread(target=misc).start()\n",
    "\n",
    "def stream():\n",
    "    for symbol in shd_obj.tradable_pairs:\n",
    "        with warnings.catch_warnings():\n",
    "            warnings.simplefilter(\"ignore\")\n",
    "            shd_obj.stream_data(symbol, (price_update, prs.get(symbol).on_price_update) )"
   ]
  },
  {
   "cell_type": "code",
   "execution_count": 10,
   "metadata": {},
   "outputs": [],
   "source": [
    "def get_past_prices():\n",
    "    for symbol in shd_obj.tradable_pairs:\n",
    "        dtf = shd_obj.historical_data(symbol, T, sz)\n",
    "        if symbol not in prs:\n",
    "            prs[symbol] = pairs.Pair(symbol, dtf)\n",
    "            prs.get(symbol).standardize_prices()\n",
    "            resp = prs.get(symbol).co_integration(prs, shd_obj.coint_mat, shd_obj.spreads)\n",
    "            shd_obj.update(prs, resp[0], resp[1])\n",
    "            \n",
    "        syz = len(prs.get(symbol).standardized_prices)\n",
    "        strm = False\n",
    "        for sym in shd_obj.tradable_pairs:\n",
    "            if(hasattr(prs.get(sym), 'standardized_prices') and syz == len(prs.get(sym).standardized_prices)):\n",
    "                strm = True\n",
    "            else:\n",
    "                strm = False\n",
    "        if(strm == True):\n",
    "            threading.Thread(target=stream).start()\n",
    "                \n",
    "threading.Thread(target=get_past_prices).start()"
   ]
  },
  {
   "cell_type": "markdown",
   "metadata": {},
   "source": [
    "#Stream Tradable Pairs"
   ]
  },
  {
   "cell_type": "code",
   "execution_count": null,
   "metadata": {},
   "outputs": [],
   "source": [
    "shd_obj.unstream_data()"
   ]
  },
  {
   "cell_type": "code",
   "execution_count": null,
   "metadata": {},
   "outputs": [],
   "source": [
    "con.close()"
   ]
  },
  {
   "cell_type": "code",
   "execution_count": null,
   "metadata": {},
   "outputs": [],
   "source": [
    "#status = shd_obj.get_status()\n",
    "#if(status == 'You are logged in'):\n",
    "    #shd_obj.stream_data(T, sz, price_update)"
   ]
  },
  {
   "cell_type": "code",
   "execution_count": null,
   "metadata": {},
   "outputs": [],
   "source": [
    "##Reverses the dataframe rows\n",
    "#df[::-1]\n",
    "\n",
    "#con.is_subscribed(instruments[0])\n",
    "#con.get_subscribed_symbols()\n",
    "\n",
    "#con.unsubscribe_market_data('EUR/USD')\n",
    "#print(shd_obj.pairs)\n",
    "#con.close()"
   ]
  },
  {
   "cell_type": "code",
   "execution_count": null,
   "metadata": {},
   "outputs": [],
   "source": [
    "#con.get_default_account()\n",
    "#con.get_prices('EUR/USD')"
   ]
  },
  {
   "cell_type": "code",
   "execution_count": null,
   "metadata": {},
   "outputs": [],
   "source": [
    "#import inspect\n",
    "#source_file_DF = inspect.getsource(pandas.DataFrame().join)\n",
    "#print(source_file_DF)"
   ]
  },
  {
   "cell_type": "code",
   "execution_count": null,
   "metadata": {},
   "outputs": [],
   "source": [
    "shd_obj.coint_mat"
   ]
  },
  {
   "cell_type": "code",
   "execution_count": 23,
   "metadata": {},
   "outputs": [],
   "source": [
    "plot0 = None\n",
    "plot1 = None\n",
    "def doplot():\n",
    "    y = 'GBP/USD'\n",
    "    x = 'USD/ZAR'\n",
    "    plot0 = shd_obj.pairwise_spreadplot(y, x)\n",
    "    plot0 = shd_obj.pairwise_plot(y, x)\n",
    "threading.Thread(target=doplot).start()"
   ]
  },
  {
   "cell_type": "code",
   "execution_count": 22,
   "metadata": {},
   "outputs": [],
   "source": [
    "#Plots"
   ]
  },
  {
   "cell_type": "code",
   "execution_count": null,
   "metadata": {},
   "outputs": [],
   "source": [
    "#shd_obj.pair_selection()\n",
    "shd_obj.ipairs\n",
    "#shd_obj.corr_mat"
   ]
  },
  {
   "cell_type": "code",
   "execution_count": null,
   "metadata": {},
   "outputs": [],
   "source": [
    "shd_obj.corr_mat"
   ]
  },
  {
   "cell_type": "code",
   "execution_count": null,
   "metadata": {},
   "outputs": [],
   "source": [
    "#shd_obj.start = True\n",
    "#shd_obj.start"
   ]
  },
  {
   "cell_type": "code",
   "execution_count": null,
   "metadata": {},
   "outputs": [],
   "source": [
    "#importlib.reload(Copula)"
   ]
  },
  {
   "cell_type": "code",
   "execution_count": null,
   "metadata": {},
   "outputs": [],
   "source": [
    "#pr = shd_obj.ipairs[4]\n",
    "#dat = pandas.DataFrame()\n",
    "#dat[pr[0]] = shd_obj.dataset0[pr[0]]\n",
    "#dat[pr[1]] = shd_obj.dataset0[pr[1]]\n",
    "#cop = Copula.copula(prs, pr, dat)\n",
    "#cop.misprice_index(dat)"
   ]
  },
  {
   "cell_type": "code",
   "execution_count": null,
   "metadata": {},
   "outputs": [],
   "source": [
    "shd_obj.coint_mat"
   ]
  },
  {
   "cell_type": "code",
   "execution_count": null,
   "metadata": {},
   "outputs": [],
   "source": []
  }
 ],
 "metadata": {
  "kernelspec": {
   "display_name": "Python 3",
   "language": "python",
   "name": "python3"
  },
  "language_info": {
   "codemirror_mode": {
    "name": "ipython",
    "version": 3
   },
   "file_extension": ".py",
   "mimetype": "text/x-python",
   "name": "python",
   "nbconvert_exporter": "python",
   "pygments_lexer": "ipython3",
   "version": "3.7.1"
  }
 },
 "nbformat": 4,
 "nbformat_minor": 2
}
