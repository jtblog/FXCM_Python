{
 "cells": [
  {
   "cell_type": "code",
   "execution_count": 6,
   "metadata": {},
   "outputs": [
    {
     "data": {
      "text/plain": [
       "True"
      ]
     },
     "execution_count": 6,
     "metadata": {},
     "output_type": "execute_result"
    }
   ],
   "source": [
    "import requests\n",
    "def connected_to_internet(url='http://www.google.com/', timeout=50):\n",
    "    try:\n",
    "        _ = requests.get(url, timeout=timeout)\n",
    "        return True\n",
    "    except requests.ConnectionError:\n",
    "        print(\"No internet connection available.\")\n",
    "    return False\n",
    "\n",
    "connected_to_internet()"
   ]
  },
  {
   "cell_type": "code",
   "execution_count": 2,
   "metadata": {},
   "outputs": [],
   "source": [
    "#!pip install -r requirements.txt\n",
    "#!pip install --upgrade python--socketio==4.4.0\n",
    "#socketio.__version__"
   ]
  },
  {
   "cell_type": "markdown",
   "metadata": {},
   "source": [
    "  "
   ]
  },
  {
   "cell_type": "code",
   "execution_count": 1,
   "metadata": {},
   "outputs": [],
   "source": [
    "import os\n",
    "import threading\n",
    "import time\n",
    "import importlib\n",
    "import sys\n",
    "import warnings\n",
    "mpath = os.getcwd() + '/lib'\n",
    "sys.path.append(mpath)"
   ]
  },
  {
   "cell_type": "code",
   "execution_count": 3,
   "metadata": {},
   "outputs": [],
   "source": [
    "#import ipywidgets as widgets\n",
    "#from ipywidgets import *\n",
    "#from IPython.display import *\n",
    "import socketio\n",
    "import engineio\n",
    "import fxcmpy\n",
    "import pandas\n",
    "import matplotlib\n",
    "from matplotlib import *\n",
    "\n",
    "import SharedObjects\n",
    "#import pairs\n",
    "#import Copula\n",
    "#importlib.reload(Copula)\n",
    "#importlib.reload(SharedObjects)\n",
    "#importlib.reload(fxcmpyi)\n",
    "#importlib.reload(pairs)\n",
    "\n",
    "import numpy"
   ]
  },
  {
   "cell_type": "code",
   "execution_count": 3,
   "metadata": {},
   "outputs": [],
   "source": [
    "#fxcmpy.__version__"
   ]
  },
  {
   "cell_type": "markdown",
   "metadata": {},
   "source": [
    "minutes: m1, m5, m15 and m30,\n",
    "hours: H1, H2, H3, H4, H6 and H8,\n",
    "one day: D1,\n",
    "one week: W1,\n",
    "one month: M1."
   ]
  },
  {
   "cell_type": "code",
   "execution_count": 4,
   "metadata": {},
   "outputs": [],
   "source": [
    "#Set variables\n",
    "T = 'm1' #Period\n",
    "sz = 1000; #Size\n",
    "prs = dict()\n",
    "pr_mlreg = dict()\n",
    "mlr = pandas.DataFrame()"
   ]
  },
  {
   "cell_type": "markdown",
   "metadata": {},
   "source": [
    "Get access token from https://tradingstation.fxcm.com."
   ]
  },
  {
   "cell_type": "markdown",
   "metadata": {},
   "source": [
    "demo - for account type demo"
   ]
  },
  {
   "cell_type": "markdown",
   "metadata": {},
   "source": [
    "real - for account type real"
   ]
  },
  {
   "cell_type": "code",
   "execution_count": 5,
   "metadata": {},
   "outputs": [],
   "source": [
    "con = None\n",
    "'''\n",
    "def custom():\n",
    "    global con\n",
    "    try:\n",
    "        def login():\n",
    "            global con\n",
    "            TOKEN = '428f4f0130d439c3d02922e4a5d4640a783830fb'\n",
    "            con = fxcmpy.fxcmpy(access_token=TOKEN, log_level='error', server='demo', log_file='fxcm.log')\n",
    "            return\n",
    "        threading.Thread(target=login).start()\n",
    "    except:\n",
    "        custom()\n",
    "custom()\n",
    "'''\n",
    "TOKEN = '428f4f0130d439c3d02922e4a5d4640a783830fb'\n",
    "con = fxcmpy.fxcmpy(access_token=TOKEN, log_level='error', server='demo', log_file='fxcm.log')\n",
    "#con.close()"
   ]
  },
  {
   "cell_type": "code",
   "execution_count": 6,
   "metadata": {},
   "outputs": [],
   "source": [
    "dt = con.get_accounts()"
   ]
  },
  {
   "cell_type": "code",
   "execution_count": 22,
   "metadata": {},
   "outputs": [
    {
     "data": {
      "text/html": [
       "<div>\n",
       "<style scoped>\n",
       "    .dataframe tbody tr th:only-of-type {\n",
       "        vertical-align: middle;\n",
       "    }\n",
       "\n",
       "    .dataframe tbody tr th {\n",
       "        vertical-align: top;\n",
       "    }\n",
       "\n",
       "    .dataframe thead th {\n",
       "        text-align: right;\n",
       "    }\n",
       "</style>\n",
       "<table border=\"1\" class=\"dataframe\">\n",
       "  <thead>\n",
       "    <tr style=\"text-align: right;\">\n",
       "      <th></th>\n",
       "      <th>t</th>\n",
       "      <th>ratePrecision</th>\n",
       "      <th>accountId</th>\n",
       "      <th>balance</th>\n",
       "      <th>usdMr</th>\n",
       "      <th>mc</th>\n",
       "      <th>mcDate</th>\n",
       "      <th>accountName</th>\n",
       "      <th>usdMr3</th>\n",
       "      <th>hedging</th>\n",
       "      <th>usableMargin3</th>\n",
       "      <th>usableMarginPerc</th>\n",
       "      <th>usableMargin3Perc</th>\n",
       "      <th>equity</th>\n",
       "      <th>usableMargin</th>\n",
       "      <th>bus</th>\n",
       "      <th>dayPL</th>\n",
       "      <th>grossPL</th>\n",
       "    </tr>\n",
       "  </thead>\n",
       "  <tbody>\n",
       "    <tr>\n",
       "      <th>0</th>\n",
       "      <td>6</td>\n",
       "      <td>0</td>\n",
       "      <td>1609875</td>\n",
       "      <td>20000</td>\n",
       "      <td>0</td>\n",
       "      <td>N</td>\n",
       "      <td></td>\n",
       "      <td>1001609875</td>\n",
       "      <td>0</td>\n",
       "      <td>Y</td>\n",
       "      <td>20000</td>\n",
       "      <td>100</td>\n",
       "      <td>100</td>\n",
       "      <td>20000</td>\n",
       "      <td>20000</td>\n",
       "      <td>1000</td>\n",
       "      <td>0</td>\n",
       "      <td>0</td>\n",
       "    </tr>\n",
       "  </tbody>\n",
       "</table>\n",
       "</div>"
      ],
      "text/plain": [
       "   t  ratePrecision accountId  balance  usdMr mc mcDate accountName  usdMr3  \\\n",
       "0  6              0   1609875    20000      0  N         1001609875       0   \n",
       "\n",
       "  hedging  usableMargin3  usableMarginPerc  usableMargin3Perc  equity  \\\n",
       "0       Y          20000               100                100   20000   \n",
       "\n",
       "   usableMargin   bus  dayPL  grossPL  \n",
       "0         20000  1000      0        0  "
      ]
     },
     "execution_count": 22,
     "metadata": {},
     "output_type": "execute_result"
    }
   ],
   "source": [
    "dt"
   ]
  },
  {
   "cell_type": "code",
   "execution_count": 8,
   "metadata": {},
   "outputs": [],
   "source": [
    "dt1 = con.get_instruments_for_candles()"
   ]
  },
  {
   "cell_type": "code",
   "execution_count": 20,
   "metadata": {},
   "outputs": [],
   "source": [
    "con = None"
   ]
  },
  {
   "cell_type": "code",
   "execution_count": 6,
   "metadata": {},
   "outputs": [],
   "source": [
    "dt2 = con.get_candles('XLM/USD', period='m1')\n",
    "#dt2 = con.get_candles('AUD/CAD', period='m1', number=5)"
   ]
  },
  {
   "cell_type": "code",
   "execution_count": 8,
   "metadata": {},
   "outputs": [
    {
     "data": {
      "text/html": [
       "<div>\n",
       "<style scoped>\n",
       "    .dataframe tbody tr th:only-of-type {\n",
       "        vertical-align: middle;\n",
       "    }\n",
       "\n",
       "    .dataframe tbody tr th {\n",
       "        vertical-align: top;\n",
       "    }\n",
       "\n",
       "    .dataframe thead th {\n",
       "        text-align: right;\n",
       "    }\n",
       "</style>\n",
       "<table border=\"1\" class=\"dataframe\">\n",
       "  <thead>\n",
       "    <tr style=\"text-align: right;\">\n",
       "      <th></th>\n",
       "      <th>close</th>\n",
       "      <th>open</th>\n",
       "      <th>high</th>\n",
       "      <th>low</th>\n",
       "      <th>tickqty</th>\n",
       "    </tr>\n",
       "    <tr>\n",
       "      <th>date</th>\n",
       "      <th></th>\n",
       "      <th></th>\n",
       "      <th></th>\n",
       "      <th></th>\n",
       "      <th></th>\n",
       "    </tr>\n",
       "  </thead>\n",
       "  <tbody>\n",
       "    <tr>\n",
       "      <th>2021-03-16 19:49:00</th>\n",
       "      <td>0.38870</td>\n",
       "      <td>0.38920</td>\n",
       "      <td>0.38925</td>\n",
       "      <td>0.38860</td>\n",
       "      <td>43</td>\n",
       "    </tr>\n",
       "    <tr>\n",
       "      <th>2021-03-16 19:50:00</th>\n",
       "      <td>0.38855</td>\n",
       "      <td>0.38865</td>\n",
       "      <td>0.38880</td>\n",
       "      <td>0.38835</td>\n",
       "      <td>40</td>\n",
       "    </tr>\n",
       "    <tr>\n",
       "      <th>2021-03-16 19:51:00</th>\n",
       "      <td>0.38885</td>\n",
       "      <td>0.38860</td>\n",
       "      <td>0.38890</td>\n",
       "      <td>0.38855</td>\n",
       "      <td>30</td>\n",
       "    </tr>\n",
       "    <tr>\n",
       "      <th>2021-03-16 19:52:00</th>\n",
       "      <td>0.38930</td>\n",
       "      <td>0.38895</td>\n",
       "      <td>0.38935</td>\n",
       "      <td>0.38885</td>\n",
       "      <td>22</td>\n",
       "    </tr>\n",
       "    <tr>\n",
       "      <th>2021-03-16 19:53:00</th>\n",
       "      <td>0.38895</td>\n",
       "      <td>0.38925</td>\n",
       "      <td>0.38935</td>\n",
       "      <td>0.38875</td>\n",
       "      <td>40</td>\n",
       "    </tr>\n",
       "    <tr>\n",
       "      <th>2021-03-16 19:54:00</th>\n",
       "      <td>0.38885</td>\n",
       "      <td>0.38885</td>\n",
       "      <td>0.38905</td>\n",
       "      <td>0.38885</td>\n",
       "      <td>29</td>\n",
       "    </tr>\n",
       "    <tr>\n",
       "      <th>2021-03-16 19:55:00</th>\n",
       "      <td>0.38885</td>\n",
       "      <td>0.38880</td>\n",
       "      <td>0.38895</td>\n",
       "      <td>0.38865</td>\n",
       "      <td>30</td>\n",
       "    </tr>\n",
       "    <tr>\n",
       "      <th>2021-03-16 19:56:00</th>\n",
       "      <td>0.38905</td>\n",
       "      <td>0.38890</td>\n",
       "      <td>0.38915</td>\n",
       "      <td>0.38885</td>\n",
       "      <td>21</td>\n",
       "    </tr>\n",
       "    <tr>\n",
       "      <th>2021-03-16 19:57:00</th>\n",
       "      <td>0.38925</td>\n",
       "      <td>0.38910</td>\n",
       "      <td>0.38925</td>\n",
       "      <td>0.38905</td>\n",
       "      <td>9</td>\n",
       "    </tr>\n",
       "    <tr>\n",
       "      <th>2021-03-16 19:58:00</th>\n",
       "      <td>0.38955</td>\n",
       "      <td>0.38930</td>\n",
       "      <td>0.38985</td>\n",
       "      <td>0.38925</td>\n",
       "      <td>48</td>\n",
       "    </tr>\n",
       "  </tbody>\n",
       "</table>\n",
       "</div>"
      ],
      "text/plain": [
       "                       close     open     high      low  tickqty\n",
       "date                                                            \n",
       "2021-03-16 19:49:00  0.38870  0.38920  0.38925  0.38860       43\n",
       "2021-03-16 19:50:00  0.38855  0.38865  0.38880  0.38835       40\n",
       "2021-03-16 19:51:00  0.38885  0.38860  0.38890  0.38855       30\n",
       "2021-03-16 19:52:00  0.38930  0.38895  0.38935  0.38885       22\n",
       "2021-03-16 19:53:00  0.38895  0.38925  0.38935  0.38875       40\n",
       "2021-03-16 19:54:00  0.38885  0.38885  0.38905  0.38885       29\n",
       "2021-03-16 19:55:00  0.38885  0.38880  0.38895  0.38865       30\n",
       "2021-03-16 19:56:00  0.38905  0.38890  0.38915  0.38885       21\n",
       "2021-03-16 19:57:00  0.38925  0.38910  0.38925  0.38905        9\n",
       "2021-03-16 19:58:00  0.38955  0.38930  0.38985  0.38925       48"
      ]
     },
     "execution_count": 8,
     "metadata": {},
     "output_type": "execute_result"
    }
   ],
   "source": [
    "dv = dt2\n",
    "cl = dv.columns.to_list()\n",
    "cl.remove('tickqty')\n",
    "dv.insert(0, 'close', (dv['askclose'] + dv['bidclose']) / 2)\n",
    "dv.insert(1, 'open', (dv['askopen'] + dv['bidopen']) / 2)\n",
    "dv.insert(2, 'high', (dv['askhigh'] + dv['bidhigh']) / 2)\n",
    "dv.insert(3, 'low', (dv['asklow'] + dv['bidlow']) / 2)\n",
    "dv.drop(cl, inplace= True, axis=1)\n",
    "dv"
   ]
  },
  {
   "cell_type": "code",
   "execution_count": 10,
   "metadata": {},
   "outputs": [],
   "source": [
    "def dataframe_is_empty(dataframe):\n",
    "        if dataframe.empty == True:\n",
    "            return True\n",
    "        if dataframe.shape[0] == 0:\n",
    "            return True\n",
    "        if len(dataframe.index.values) == 0:\n",
    "            return True\n",
    "        return False\n",
    "#dt2.axes[0].strftime('%Y-%m-%d %H:%M:%S:%f').tolist()\n",
    "#pandas.Timestamp.now().to_pydatetime()\n",
    "#datetime.datetime('2021-03-15 07:55:00:000000')"
   ]
  },
  {
   "cell_type": "code",
   "execution_count": 11,
   "metadata": {},
   "outputs": [],
   "source": [
    "def update(data, dataframe):\n",
    "    global dtt\n",
    "    dtt = dataframe\n",
    "    #print(data)\n",
    "    print(dtt)"
   ]
  },
  {
   "cell_type": "code",
   "execution_count": 13,
   "metadata": {},
   "outputs": [],
   "source": [
    "con.unsubscribe_market_data('ZAR/JPY')"
   ]
  },
  {
   "cell_type": "code",
   "execution_count": 12,
   "metadata": {},
   "outputs": [
    {
     "name": "stdout",
     "output_type": "stream",
     "text": [
      "                           Bid    Ask   High    Low\n",
      "2021-03-16 20:09:23.024  7.301  7.341  7.399  7.284\n",
      "2021-03-16 20:09:20.531  7.300  7.341  7.399  7.284\n",
      "                           Bid     Ask   High    Low\n",
      "2021-03-16 20:09:23.024  7.301  7.3410  7.399  7.284\n",
      "2021-03-16 20:09:20.531  7.300  7.3410  7.399  7.284\n",
      "2021-03-16 20:09:21.271  7.300  7.3401  7.399  7.284\n",
      "                           Bid     Ask   High    Low\n",
      "2021-03-16 20:09:23.024  7.301  7.3410  7.399  7.284\n",
      "2021-03-16 20:09:20.531  7.300  7.3410  7.399  7.284\n",
      "2021-03-16 20:09:21.271  7.300  7.3401  7.399  7.284\n",
      "2021-03-16 20:09:22.562  7.301  7.3416  7.399  7.284\n",
      "                           Bid     Ask   High    Low\n",
      "2021-03-16 20:09:23.024  7.301  7.3410  7.399  7.284\n",
      "2021-03-16 20:09:20.531  7.300  7.3410  7.399  7.284\n",
      "2021-03-16 20:09:21.271  7.300  7.3401  7.399  7.284\n",
      "2021-03-16 20:09:22.562  7.301  7.3416  7.399  7.284\n",
      "2021-03-16 20:09:23.024  7.301  7.3410  7.399  7.284\n",
      "                           Bid     Ask   High    Low\n",
      "2021-03-16 20:09:23.024  7.301  7.3410  7.399  7.284\n",
      "2021-03-16 20:09:20.531  7.300  7.3410  7.399  7.284\n",
      "2021-03-16 20:09:21.271  7.300  7.3401  7.399  7.284\n",
      "2021-03-16 20:09:22.562  7.301  7.3416  7.399  7.284\n",
      "2021-03-16 20:09:23.024  7.301  7.3410  7.399  7.284\n",
      "2021-03-16 20:09:34.490  7.300  7.3408  7.399  7.284\n",
      "                           Bid     Ask   High    Low\n",
      "2021-03-16 20:09:23.024  7.301  7.3410  7.399  7.284\n",
      "2021-03-16 20:09:20.531  7.300  7.3410  7.399  7.284\n",
      "2021-03-16 20:09:21.271  7.300  7.3401  7.399  7.284\n",
      "2021-03-16 20:09:22.562  7.301  7.3416  7.399  7.284\n",
      "2021-03-16 20:09:23.024  7.301  7.3410  7.399  7.284\n",
      "2021-03-16 20:09:34.490  7.300  7.3408  7.399  7.284\n",
      "2021-03-16 20:09:34.876  7.299  7.3390  7.399  7.284\n",
      "                           Bid     Ask   High    Low\n",
      "2021-03-16 20:09:23.024  7.301  7.3410  7.399  7.284\n",
      "2021-03-16 20:09:20.531  7.300  7.3410  7.399  7.284\n",
      "2021-03-16 20:09:21.271  7.300  7.3401  7.399  7.284\n",
      "2021-03-16 20:09:22.562  7.301  7.3416  7.399  7.284\n",
      "2021-03-16 20:09:23.024  7.301  7.3410  7.399  7.284\n",
      "2021-03-16 20:09:34.490  7.300  7.3408  7.399  7.284\n",
      "2021-03-16 20:09:34.876  7.299  7.3390  7.399  7.284\n",
      "2021-03-16 20:09:36.376  7.299  7.3390  7.399  7.284\n",
      "                            Bid     Ask   High    Low\n",
      "2021-03-16 20:09:23.024  7.3010  7.3410  7.399  7.284\n",
      "2021-03-16 20:09:20.531  7.3000  7.3410  7.399  7.284\n",
      "2021-03-16 20:09:21.271  7.3000  7.3401  7.399  7.284\n",
      "2021-03-16 20:09:22.562  7.3010  7.3416  7.399  7.284\n",
      "2021-03-16 20:09:23.024  7.3010  7.3410  7.399  7.284\n",
      "2021-03-16 20:09:34.490  7.3000  7.3408  7.399  7.284\n",
      "2021-03-16 20:09:34.876  7.2990  7.3390  7.399  7.284\n",
      "2021-03-16 20:09:36.376  7.2990  7.3390  7.399  7.284\n",
      "2021-03-16 20:09:37.221  7.2989  7.3390  7.399  7.284\n",
      "                            Bid     Ask   High    Low\n",
      "2021-03-16 20:09:23.024  7.3010  7.3410  7.399  7.284\n",
      "2021-03-16 20:09:20.531  7.3000  7.3410  7.399  7.284\n",
      "2021-03-16 20:09:21.271  7.3000  7.3401  7.399  7.284\n",
      "2021-03-16 20:09:22.562  7.3010  7.3416  7.399  7.284\n",
      "2021-03-16 20:09:23.024  7.3010  7.3410  7.399  7.284\n",
      "2021-03-16 20:09:34.490  7.3000  7.3408  7.399  7.284\n",
      "2021-03-16 20:09:34.876  7.2990  7.3390  7.399  7.284\n",
      "2021-03-16 20:09:36.376  7.2990  7.3390  7.399  7.284\n",
      "2021-03-16 20:09:37.221  7.2989  7.3390  7.399  7.284\n",
      "2021-03-16 20:09:37.430  7.2985  7.3390  7.399  7.284\n"
     ]
    }
   ],
   "source": [
    "con.subscribe_market_data('ZAR/JPY', (update,))\n",
    "#dt3 = con.get_subscribed_symbols()"
   ]
  },
  {
   "cell_type": "code",
   "execution_count": 60,
   "metadata": {},
   "outputs": [
    {
     "data": {
      "text/plain": [
       "7.2989"
      ]
     },
     "execution_count": 60,
     "metadata": {},
     "output_type": "execute_result"
    }
   ],
   "source": [
    "dttc0 = dtt.copy()\n",
    "dttc0.drop(dttc.tail(1).index, inplace=True)\n",
    "dttc = dtt.copy()\n",
    "dttc.drop(dttc.head(len(dttc.axes[0].tolist())-1).index, inplace=True)\n",
    "newdf = pandas.concat([dttc0, dttc])\n",
    "float(newdf.at[newdf.index[-2] , 'Bid'])"
   ]
  },
  {
   "cell_type": "code",
   "execution_count": 17,
   "metadata": {},
   "outputs": [],
   "source": [
    "dt4 = con.get_prices('AUD/CAD')"
   ]
  },
  {
   "cell_type": "code",
   "execution_count": 27,
   "metadata": {},
   "outputs": [
    {
     "data": {
      "text/plain": [
       "list"
      ]
     },
     "execution_count": 27,
     "metadata": {},
     "output_type": "execute_result"
    }
   ],
   "source": [
    "from datetime import datetime, timedelta\n",
    "import pandas\n",
    "#dt4\n",
    "#t0 = pandas.to_datetime(1615836309625, unit='ms') + timedelta(hours=1)\n",
    "#(pandas.Timestamp.now() - t0).seconds / 60\n",
    "#t1 = pandas.to_datetime(dtt['Updated'], unit='ms').strftime('%Y-%m-%d %H:%M:%S.%f')\n",
    "type([0])"
   ]
  },
  {
   "cell_type": "code",
   "execution_count": 10,
   "metadata": {},
   "outputs": [],
   "source": [
    "con.close()"
   ]
  },
  {
   "cell_type": "code",
   "execution_count": 9,
   "metadata": {},
   "outputs": [
    {
     "data": {
      "text/plain": [
       "str"
      ]
     },
     "execution_count": 9,
     "metadata": {},
     "output_type": "execute_result"
    }
   ],
   "source": [
    "type(dt2.to_json(orient='split'))"
   ]
  },
  {
   "cell_type": "code",
   "execution_count": null,
   "metadata": {},
   "outputs": [],
   "source": [
    "if con is not None:\n",
    "    shd_obj = SharedObjects.SharedObjects(con)\n",
    "    print(con.is_connected())"
   ]
  },
  {
   "cell_type": "code",
   "execution_count": null,
   "metadata": {},
   "outputs": [],
   "source": [
    "#Function to update data\n",
    "def price_update(data = None, dataframe = None):\n",
    "    symbol = data['Symbol']\n",
    "    global pr_mlreg, mlr, shd_obj, prs\n",
    "    if (symbol in prs):\n",
    "        #pr_mlreg[symbol] = prs.get(symbol).multiple_linear_regression(prs)\n",
    "        #mlr = shd_obj.mergeall_byrow(pr_mlreg)\n",
    "        prs.get(symbol).standardize_prices()\n",
    "        resp = prs.get(symbol).co_integration(prs, shd_obj.coint_mat, shd_obj.spreads)\n",
    "        shd_obj.update(prs, resp[0], resp[1])"
   ]
  },
  {
   "cell_type": "code",
   "execution_count": null,
   "metadata": {},
   "outputs": [],
   "source": [
    "def stream():\n",
    "    for symbol in shd_obj.tradable_pairs:\n",
    "        with warnings.catch_warnings():\n",
    "            warnings.simplefilter(\"ignore\")\n",
    "            shd_obj.stream_data(symbol, (price_update, prs.get(symbol).on_price_update) )"
   ]
  },
  {
   "cell_type": "code",
   "execution_count": null,
   "metadata": {},
   "outputs": [],
   "source": [
    "def get_past_prices():\n",
    "    for symbol in shd_obj.tradable_pairs:\n",
    "        dtf = shd_obj.historical_data(symbol, T, sz)\n",
    "        if symbol not in prs:\n",
    "            prs[symbol] = pairs.Pair(symbol, dtf)\n",
    "            prs.get(symbol).standardize_prices()\n",
    "            resp = prs.get(symbol).co_integration(prs, shd_obj.coint_mat, shd_obj.spreads)\n",
    "            shd_obj.update(prs, resp[0], resp[1])\n",
    "            \n",
    "        syz = len(prs.get(symbol).standardized_prices)\n",
    "        strm = False\n",
    "        for sym in shd_obj.tradable_pairs:\n",
    "            if(hasattr(prs.get(sym), 'standardized_prices') and syz == len(prs.get(sym).standardized_prices)):\n",
    "                strm = True\n",
    "            else:\n",
    "                strm = False\n",
    "        if(strm == True):\n",
    "            threading.Thread(target=stream).start()\n",
    "                \n",
    "threading.Thread(target=get_past_prices).start()"
   ]
  },
  {
   "cell_type": "markdown",
   "metadata": {},
   "source": [
    "#Stream Tradable Pairs"
   ]
  },
  {
   "cell_type": "code",
   "execution_count": null,
   "metadata": {},
   "outputs": [],
   "source": [
    "#shd_obj.unstream_data()"
   ]
  },
  {
   "cell_type": "code",
   "execution_count": null,
   "metadata": {},
   "outputs": [],
   "source": [
    "#con.close()"
   ]
  },
  {
   "cell_type": "code",
   "execution_count": null,
   "metadata": {},
   "outputs": [],
   "source": [
    "#status = shd_obj.get_status()\n",
    "#if(status == 'You are logged in'):\n",
    "    #shd_obj.stream_data(T, sz, price_update)"
   ]
  },
  {
   "cell_type": "code",
   "execution_count": null,
   "metadata": {},
   "outputs": [],
   "source": [
    "##Reverses the dataframe rows\n",
    "#df[::-1]\n",
    "\n",
    "#con.is_subscribed(instruments[0])\n",
    "#con.get_subscribed_symbols()\n",
    "\n",
    "#con.unsubscribe_market_data('EUR/USD')\n",
    "#print(shd_obj.pairs)\n",
    "#con.close()"
   ]
  },
  {
   "cell_type": "code",
   "execution_count": null,
   "metadata": {},
   "outputs": [],
   "source": [
    "#con.get_default_account()\n",
    "#con.get_prices('EUR/USD')"
   ]
  },
  {
   "cell_type": "code",
   "execution_count": null,
   "metadata": {},
   "outputs": [],
   "source": [
    "#import inspect\n",
    "#source_file_DF = inspect.getsource(pandas.DataFrame().join)\n",
    "#print(source_file_DF)"
   ]
  },
  {
   "cell_type": "code",
   "execution_count": null,
   "metadata": {},
   "outputs": [],
   "source": [
    "#mlr\n",
    "#shd_obj.corr_bd\n",
    "#shd_obj.coint_mat"
   ]
  },
  {
   "cell_type": "code",
   "execution_count": null,
   "metadata": {},
   "outputs": [],
   "source": [
    "plot0 = None\n",
    "plot1 = None\n",
    "def doplot():\n",
    "    y = 'USD/CHF'\n",
    "    x = 'NZD/USD'\n",
    "    plot0 = shd_obj.pairwise_spreadplot(y, x)\n",
    "    plot1 = shd_obj.pairwise_plot(y, x)\n",
    "threading.Thread(target=doplot).start()"
   ]
  },
  {
   "cell_type": "code",
   "execution_count": null,
   "metadata": {},
   "outputs": [],
   "source": [
    "#Plots"
   ]
  },
  {
   "cell_type": "code",
   "execution_count": null,
   "metadata": {},
   "outputs": [],
   "source": [
    "shd_obj.corr_mat"
   ]
  },
  {
   "cell_type": "code",
   "execution_count": null,
   "metadata": {},
   "outputs": [],
   "source": [
    "#shd_obj.start = True\n",
    "#shd_obj.start\n",
    "stream()"
   ]
  },
  {
   "cell_type": "code",
   "execution_count": null,
   "metadata": {},
   "outputs": [],
   "source": [
    "#pr = shd_obj.ipairs[4]\n",
    "#dat = pandas.DataFrame()\n",
    "#dat[pr[0]] = shd_obj.dataset0[pr[0]]\n",
    "#dat[pr[1]] = shd_obj.dataset0[pr[1]]\n",
    "#cop = Copula.copula(prs, pr, dat)\n",
    "from ipywidgets import interact, interactive, fixed, interact_manual\n",
    "y = interactive(shd_obj.pairwise_plot, a = shd_obj.tradable_pairs, b = shd_obj.tradable_pairs)\n",
    "display(y)"
   ]
  },
  {
   "cell_type": "code",
   "execution_count": null,
   "metadata": {},
   "outputs": [],
   "source": [
    "#import inspect\n",
    "#source_file_DF = inspect.getsource(pandas.DataFrame)\n",
    "#print(source_file_DF)"
   ]
  },
  {
   "cell_type": "code",
   "execution_count": null,
   "metadata": {},
   "outputs": [],
   "source": [
    "#!pip install qgrid"
   ]
  },
  {
   "cell_type": "code",
   "execution_count": null,
   "metadata": {},
   "outputs": [],
   "source": [
    "#items = ['All']+sorted(df['Asset Type Description'].unique().tolist())\n",
    "from ipywidgets import interact, interactive, fixed, interact_manual\n",
    "def view():\n",
    "    display(shd_obj.coint_mat)\n",
    "    display(shd_obj.corr_mat)\n",
    "    return()\n",
    "x = interactive(view)\n",
    "x"
   ]
  },
  {
   "cell_type": "code",
   "execution_count": null,
   "metadata": {},
   "outputs": [],
   "source": []
  }
 ],
 "metadata": {
  "kernelspec": {
   "display_name": "Python 3",
   "language": "python",
   "name": "python3"
  },
  "language_info": {
   "codemirror_mode": {
    "name": "ipython",
    "version": 3
   },
   "file_extension": ".py",
   "mimetype": "text/x-python",
   "name": "python",
   "nbconvert_exporter": "python",
   "pygments_lexer": "ipython3",
   "version": "3.8.5"
  }
 },
 "nbformat": 4,
 "nbformat_minor": 4
}
