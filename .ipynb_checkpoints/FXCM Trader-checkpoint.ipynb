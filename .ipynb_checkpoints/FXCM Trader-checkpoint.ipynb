{
 "cells": [
  {
   "cell_type": "code",
   "execution_count": 1,
   "metadata": {},
   "outputs": [
    {
     "data": {
      "text/plain": [
       "True"
      ]
     },
     "execution_count": 1,
     "metadata": {},
     "output_type": "execute_result"
    }
   ],
   "source": [
    "import requests\n",
    "def connected_to_internet(url='http://www.google.com/', timeout=5):\n",
    "    try:\n",
    "        _ = requests.get(url, timeout=timeout)\n",
    "        return True\n",
    "    except requests.ConnectionError:\n",
    "        print(\"No internet connection available.\")\n",
    "    return False\n",
    "\n",
    "connected_to_internet()"
   ]
  },
  {
   "cell_type": "code",
   "execution_count": null,
   "metadata": {},
   "outputs": [],
   "source": [
    "#!pip install -r requirements.txt\n",
    "#!pip install fxcmpy\n",
    "#!pip install forexconnect\n",
    "#!pip install sklearn\n",
    "#!pip install statsmodels\n",
    "#!pip install matplotlib\n",
    "#!pip install ipywidgets"
   ]
  },
  {
   "cell_type": "code",
   "execution_count": null,
   "metadata": {},
   "outputs": [],
   "source": []
  },
  {
   "cell_type": "code",
   "execution_count": 3,
   "metadata": {},
   "outputs": [],
   "source": [
    "import os\n",
    "import threading\n",
    "import time\n",
    "import importlib\n",
    "import sys\n",
    "mpath = os.getcwd() + '/lib'\n",
    "sys.path.append(mpath)"
   ]
  },
  {
   "cell_type": "code",
   "execution_count": 87,
   "metadata": {},
   "outputs": [],
   "source": [
    "#from forexconnect import fxcorepy\n",
    "import fxcmpyi\n",
    "import pandas as pd\n",
    "import matplotlib\n",
    "\n",
    "import SharedObjects\n",
    "import pairs\n",
    "importlib.reload(SharedObjects)\n",
    "importlib.reload(fxcmpyi)\n",
    "importlib.reload(pairs)\n",
    "#importlib.reload(sklearn)\n",
    "\n",
    "import numpy as np"
   ]
  },
  {
   "cell_type": "code",
   "execution_count": 5,
   "metadata": {},
   "outputs": [],
   "source": [
    "#fxcmpy.__version__"
   ]
  },
  {
   "cell_type": "markdown",
   "metadata": {},
   "source": [
    "minutes: m1, m5, m15 and m30,\n",
    "hours: H1, H2, H3, H4, H6 and H8,\n",
    "one day: D1,\n",
    "one week: W1,\n",
    "one month: M1."
   ]
  },
  {
   "cell_type": "code",
   "execution_count": 6,
   "metadata": {},
   "outputs": [],
   "source": [
    "#Set variables\n",
    "T = 'm1' #Period\n",
    "sz = 300; #Size\n",
    "prs = dict()\n",
    "mlr = dict()"
   ]
  },
  {
   "cell_type": "markdown",
   "metadata": {},
   "source": [
    "Get access token from https://tradingstation.fxcm.com."
   ]
  },
  {
   "cell_type": "markdown",
   "metadata": {},
   "source": [
    "demo - for account type demo"
   ]
  },
  {
   "cell_type": "markdown",
   "metadata": {},
   "source": [
    "real - for account type real"
   ]
  },
  {
   "cell_type": "code",
   "execution_count": 13,
   "metadata": {},
   "outputs": [],
   "source": [
    "con = None\n",
    "def custom():\n",
    "    global con\n",
    "    try:\n",
    "        def login():\n",
    "            global con\n",
    "            TOKEN = '2720337434ea557dea25bad4cd9ad392d70f620d'\n",
    "            con = fxcmpyi.fxcmpy(access_token=TOKEN, log_level='error', server='demo')\n",
    "        threading.Thread(target=login).start()\n",
    "    except:\n",
    "        custom()\n",
    "custom()\n",
    "#con.close()"
   ]
  },
  {
   "cell_type": "code",
   "execution_count": 17,
   "metadata": {},
   "outputs": [
    {
     "name": "stdout",
     "output_type": "stream",
     "text": [
      "True\n"
     ]
    }
   ],
   "source": [
    "if con is not None:\n",
    "    print(con.is_connected())\n",
    "    shd_obj = SharedObjects.SharedObjects(con)"
   ]
  },
  {
   "cell_type": "code",
   "execution_count": 18,
   "metadata": {},
   "outputs": [],
   "source": [
    "#Function to update data\n",
    "def price_update(data, dataframe):\n",
    "    symbol = data['Symbol']\n",
    "    if (len(prs) > 1):\n",
    "        mlr[symbol] = prs.get(symbol).multiple_linear_regression(prs)"
   ]
  },
  {
   "cell_type": "code",
   "execution_count": 19,
   "metadata": {},
   "outputs": [],
   "source": [
    "try:\n",
    "    def get_past_prices():\n",
    "        for symbol in shd_obj.tradable_pairs:\n",
    "            dtf = shd_obj.historical_data(symbol, T, sz)\n",
    "            if symbol not in prs:\n",
    "                prs[symbol] = pairs.Pair(symbol, dtf)\n",
    "                shd_obj.stream_data(symbol, (price_update, prs.get(symbol).on_price_update) )\n",
    "            \n",
    "    threading.Thread(target=get_past_prices).start()\n",
    "except:\n",
    "    print(\"Error: unable to start thread\")"
   ]
  },
  {
   "cell_type": "code",
   "execution_count": 36,
   "metadata": {},
   "outputs": [],
   "source": [
    "shd_obj.unstream_data()"
   ]
  },
  {
   "cell_type": "code",
   "execution_count": null,
   "metadata": {},
   "outputs": [],
   "source": [
    "#con.close()"
   ]
  },
  {
   "cell_type": "code",
   "execution_count": null,
   "metadata": {},
   "outputs": [],
   "source": [
    "#status = shd_obj.get_status()\n",
    "#if(status == 'You are logged in'):\n",
    "    #shd_obj.stream_data(T, sz, price_update)"
   ]
  },
  {
   "cell_type": "code",
   "execution_count": null,
   "metadata": {},
   "outputs": [],
   "source": [
    "##Reverses the dataframe rows\n",
    "#df[::-1]\n",
    "\n",
    "#c = df.drop(columns=['tickvolume'])\n",
    "#dates[0].minute\n",
    "#dates[0].hour\n",
    "\n",
    "#con.is_subscribed(instruments[0])\n",
    "#con.get_subscribed_symbols()\n",
    "\n",
    "#con.unsubscribe_market_data('EUR/USD')\n",
    "#print(shd_obj.pairs)\n",
    "#con.close()"
   ]
  },
  {
   "cell_type": "code",
   "execution_count": null,
   "metadata": {},
   "outputs": [],
   "source": [
    "#con.get_default_account()\n",
    "#con.get_prices('EUR/USD')"
   ]
  },
  {
   "cell_type": "code",
   "execution_count": null,
   "metadata": {},
   "outputs": [],
   "source": [
    "#import inspect\n",
    "#source_file_DF = inspect.getsource(pd.concat)\n",
    "#print(source_file_DF)"
   ]
  },
  {
   "cell_type": "code",
   "execution_count": 195,
   "metadata": {},
   "outputs": [],
   "source": [
    "from sklearn import * \n",
    "from statsmodels.tsa.stattools import adfuller\n",
    "\n",
    "def reg(x,y):\n",
    "    regr = linear_model.LinearRegression()\n",
    "    x_constant = pd.concat([x,pd.Series([1]*len(x),index = x.index)], axis=1)\n",
    "    regr.fit(x_constant, y)    \n",
    "    beta = regr.coef_[0]\n",
    "    alpha = regr.intercept_\n",
    "    spread = y - x*beta - alpha\n",
    "    return spread"
   ]
  },
  {
   "cell_type": "code",
   "execution_count": null,
   "metadata": {},
   "outputs": [],
   "source": [
    "lm = linear_model.LinearRegression()\n",
    "adfmat = dict()\n",
    "dfs = dict()\n",
    "for pr in prs:\n",
    "    adfmat[pr] = []\n",
    "\n",
    "for key in prs:\n",
    "    dtf = pd.DataFrame()\n",
    "    yy = prs.get(key).prices['Close'].tolist()\n",
    "    y_np = np.array(yy)\n",
    "    standardized_y = ((y_np-y_np.mean())/y_np.std() ).tolist()\n",
    "    dtf[key] = standardized_y\n",
    "    \n",
    "    for ky in prs:\n",
    "        xx = prs.get(ky).prices['Close'].tolist()\n",
    "        x_np = np.array(xx)\n",
    "        standardized_x = ((x_np-x_np.mean())/x_np.std() ).tolist()\n",
    "        dtf[ky] = standardized_x\n",
    "        spread = reg(dtf[ky], dtf[key])\n",
    "        #dtf[ky] = spread\n",
    "        adf = adfuller(spread, maxlag=1)\n",
    "        adfmat.get(ky).append(adf[1])\n",
    "    dfs[key] = dtf\n",
    "adf_ps = pd.DataFrame(index = list(adfmat.keys()))\n",
    "for key in adfmat:\n",
    "    adf_ps[key] = adfmat.get(key)"
   ]
  },
  {
   "cell_type": "code",
   "execution_count": 242,
   "metadata": {},
   "outputs": [
    {
     "data": {
      "text/html": [
       "<div>\n",
       "<style scoped>\n",
       "    .dataframe tbody tr th:only-of-type {\n",
       "        vertical-align: middle;\n",
       "    }\n",
       "\n",
       "    .dataframe tbody tr th {\n",
       "        vertical-align: top;\n",
       "    }\n",
       "\n",
       "    .dataframe thead th {\n",
       "        text-align: right;\n",
       "    }\n",
       "</style>\n",
       "<table border=\"1\" class=\"dataframe\">\n",
       "  <thead>\n",
       "    <tr style=\"text-align: right;\">\n",
       "      <th></th>\n",
       "      <th>EUR/USD</th>\n",
       "      <th>USD/JPY</th>\n",
       "      <th>GBP/USD</th>\n",
       "      <th>USD/CHF</th>\n",
       "      <th>AUD/USD</th>\n",
       "      <th>USD/CAD</th>\n",
       "      <th>NZD/USD</th>\n",
       "      <th>EUR/GBP</th>\n",
       "      <th>USD/ZAR</th>\n",
       "      <th>ZAR/JPY</th>\n",
       "      <th>Copper</th>\n",
       "    </tr>\n",
       "  </thead>\n",
       "  <tbody>\n",
       "    <tr>\n",
       "      <th>EUR/USD</th>\n",
       "      <td>0.880149</td>\n",
       "      <td>0.227756</td>\n",
       "      <td>0.364445</td>\n",
       "      <td>0.096163</td>\n",
       "      <td>0.013398</td>\n",
       "      <td>0.013645</td>\n",
       "      <td>0.280247</td>\n",
       "      <td>0.063915</td>\n",
       "      <td>0.281822</td>\n",
       "      <td>0.076938</td>\n",
       "      <td>0.093779</td>\n",
       "    </tr>\n",
       "    <tr>\n",
       "      <th>USD/JPY</th>\n",
       "      <td>0.217951</td>\n",
       "      <td>0.851377</td>\n",
       "      <td>0.176424</td>\n",
       "      <td>0.092482</td>\n",
       "      <td>0.286358</td>\n",
       "      <td>0.209308</td>\n",
       "      <td>0.029341</td>\n",
       "      <td>0.222398</td>\n",
       "      <td>0.129892</td>\n",
       "      <td>0.040525</td>\n",
       "      <td>0.353966</td>\n",
       "    </tr>\n",
       "    <tr>\n",
       "      <th>GBP/USD</th>\n",
       "      <td>0.076279</td>\n",
       "      <td>0.046882</td>\n",
       "      <td>0.951570</td>\n",
       "      <td>0.081100</td>\n",
       "      <td>0.022124</td>\n",
       "      <td>0.031026</td>\n",
       "      <td>0.027263</td>\n",
       "      <td>0.006125</td>\n",
       "      <td>0.065930</td>\n",
       "      <td>0.011601</td>\n",
       "      <td>0.078932</td>\n",
       "    </tr>\n",
       "    <tr>\n",
       "      <th>USD/CHF</th>\n",
       "      <td>0.049361</td>\n",
       "      <td>0.041823</td>\n",
       "      <td>0.198553</td>\n",
       "      <td>0.968281</td>\n",
       "      <td>0.075963</td>\n",
       "      <td>0.080124</td>\n",
       "      <td>0.034088</td>\n",
       "      <td>0.102415</td>\n",
       "      <td>0.072770</td>\n",
       "      <td>0.094959</td>\n",
       "      <td>0.260969</td>\n",
       "    </tr>\n",
       "    <tr>\n",
       "      <th>AUD/USD</th>\n",
       "      <td>0.011743</td>\n",
       "      <td>0.267005</td>\n",
       "      <td>0.146911</td>\n",
       "      <td>0.169367</td>\n",
       "      <td>NaN</td>\n",
       "      <td>0.004561</td>\n",
       "      <td>0.341370</td>\n",
       "      <td>0.002561</td>\n",
       "      <td>0.346736</td>\n",
       "      <td>0.086398</td>\n",
       "      <td>0.131877</td>\n",
       "    </tr>\n",
       "    <tr>\n",
       "      <th>USD/CAD</th>\n",
       "      <td>0.017923</td>\n",
       "      <td>0.244843</td>\n",
       "      <td>0.192855</td>\n",
       "      <td>0.198057</td>\n",
       "      <td>0.006911</td>\n",
       "      <td>0.982359</td>\n",
       "      <td>0.305677</td>\n",
       "      <td>0.018816</td>\n",
       "      <td>0.384119</td>\n",
       "      <td>0.078359</td>\n",
       "      <td>0.316170</td>\n",
       "    </tr>\n",
       "    <tr>\n",
       "      <th>NZD/USD</th>\n",
       "      <td>0.002063</td>\n",
       "      <td>0.000151</td>\n",
       "      <td>0.002367</td>\n",
       "      <td>0.000501</td>\n",
       "      <td>0.003117</td>\n",
       "      <td>0.001852</td>\n",
       "      <td>0.943579</td>\n",
       "      <td>0.003117</td>\n",
       "      <td>0.000829</td>\n",
       "      <td>0.000836</td>\n",
       "      <td>0.002680</td>\n",
       "    </tr>\n",
       "    <tr>\n",
       "      <th>EUR/GBP</th>\n",
       "      <td>0.138126</td>\n",
       "      <td>0.391179</td>\n",
       "      <td>0.145759</td>\n",
       "      <td>0.368538</td>\n",
       "      <td>0.005201</td>\n",
       "      <td>0.025148</td>\n",
       "      <td>0.565761</td>\n",
       "      <td>0.974027</td>\n",
       "      <td>0.558227</td>\n",
       "      <td>0.072178</td>\n",
       "      <td>0.234654</td>\n",
       "    </tr>\n",
       "    <tr>\n",
       "      <th>USD/ZAR</th>\n",
       "      <td>0.032021</td>\n",
       "      <td>0.010939</td>\n",
       "      <td>0.036266</td>\n",
       "      <td>0.012779</td>\n",
       "      <td>0.043282</td>\n",
       "      <td>0.035071</td>\n",
       "      <td>0.016746</td>\n",
       "      <td>0.043896</td>\n",
       "      <td>0.965241</td>\n",
       "      <td>0.014937</td>\n",
       "      <td>0.046924</td>\n",
       "    </tr>\n",
       "    <tr>\n",
       "      <th>ZAR/JPY</th>\n",
       "      <td>0.114254</td>\n",
       "      <td>0.034101</td>\n",
       "      <td>0.125396</td>\n",
       "      <td>0.167065</td>\n",
       "      <td>0.126976</td>\n",
       "      <td>0.054472</td>\n",
       "      <td>0.180723</td>\n",
       "      <td>0.031174</td>\n",
       "      <td>0.150717</td>\n",
       "      <td>0.979882</td>\n",
       "      <td>0.318944</td>\n",
       "    </tr>\n",
       "    <tr>\n",
       "      <th>Copper</th>\n",
       "      <td>0.230012</td>\n",
       "      <td>0.785981</td>\n",
       "      <td>0.749709</td>\n",
       "      <td>0.767557</td>\n",
       "      <td>0.339275</td>\n",
       "      <td>0.628875</td>\n",
       "      <td>0.677069</td>\n",
       "      <td>0.329488</td>\n",
       "      <td>0.752198</td>\n",
       "      <td>0.665869</td>\n",
       "      <td>0.991669</td>\n",
       "    </tr>\n",
       "  </tbody>\n",
       "</table>\n",
       "</div>"
      ],
      "text/plain": [
       "          EUR/USD   USD/JPY   GBP/USD   USD/CHF   AUD/USD   USD/CAD   NZD/USD  \\\n",
       "EUR/USD  0.880149  0.227756  0.364445  0.096163  0.013398  0.013645  0.280247   \n",
       "USD/JPY  0.217951  0.851377  0.176424  0.092482  0.286358  0.209308  0.029341   \n",
       "GBP/USD  0.076279  0.046882  0.951570  0.081100  0.022124  0.031026  0.027263   \n",
       "USD/CHF  0.049361  0.041823  0.198553  0.968281  0.075963  0.080124  0.034088   \n",
       "AUD/USD  0.011743  0.267005  0.146911  0.169367       NaN  0.004561  0.341370   \n",
       "USD/CAD  0.017923  0.244843  0.192855  0.198057  0.006911  0.982359  0.305677   \n",
       "NZD/USD  0.002063  0.000151  0.002367  0.000501  0.003117  0.001852  0.943579   \n",
       "EUR/GBP  0.138126  0.391179  0.145759  0.368538  0.005201  0.025148  0.565761   \n",
       "USD/ZAR  0.032021  0.010939  0.036266  0.012779  0.043282  0.035071  0.016746   \n",
       "ZAR/JPY  0.114254  0.034101  0.125396  0.167065  0.126976  0.054472  0.180723   \n",
       "Copper   0.230012  0.785981  0.749709  0.767557  0.339275  0.628875  0.677069   \n",
       "\n",
       "          EUR/GBP   USD/ZAR   ZAR/JPY    Copper  \n",
       "EUR/USD  0.063915  0.281822  0.076938  0.093779  \n",
       "USD/JPY  0.222398  0.129892  0.040525  0.353966  \n",
       "GBP/USD  0.006125  0.065930  0.011601  0.078932  \n",
       "USD/CHF  0.102415  0.072770  0.094959  0.260969  \n",
       "AUD/USD  0.002561  0.346736  0.086398  0.131877  \n",
       "USD/CAD  0.018816  0.384119  0.078359  0.316170  \n",
       "NZD/USD  0.003117  0.000829  0.000836  0.002680  \n",
       "EUR/GBP  0.974027  0.558227  0.072178  0.234654  \n",
       "USD/ZAR  0.043896  0.965241  0.014937  0.046924  \n",
       "ZAR/JPY  0.031174  0.150717  0.979882  0.318944  \n",
       "Copper   0.329488  0.752198  0.665869  0.991669  "
      ]
     },
     "execution_count": 242,
     "metadata": {},
     "output_type": "execute_result"
    }
   ],
   "source": [
    "adf_ps"
   ]
  },
  {
   "cell_type": "code",
   "execution_count": 247,
   "metadata": {},
   "outputs": [
    {
     "data": {
      "text/plain": [
       "<matplotlib.axes._subplots.AxesSubplot at 0x10ee3090>"
      ]
     },
     "execution_count": 247,
     "metadata": {},
     "output_type": "execute_result"
    },
    {
     "data": {
      "image/png": "[encoded data removed]",
      "text/plain": [
       "<Figure size 1080x720 with 1 Axes>"
      ]
     },
     "metadata": {
      "needs_background": "light"
     },
     "output_type": "display_data"
    }
   ],
   "source": [
    "r = 'ZAR/JPY'\n",
    "c = 'USD/JPY'\n",
    "dff = pd.DataFrame()\n",
    "dff[r] = dfs.get(r)[r]\n",
    "dff[c] = dfs.get(r)[c]\n",
    "dff.plot(figsize =(15,10))\n",
    "#dff"
   ]
  },
  {
   "cell_type": "code",
   "execution_count": 245,
   "metadata": {},
   "outputs": [
    {
     "data": {
      "text/plain": [
       "<matplotlib.axes._subplots.AxesSubplot at 0x10eb5130>"
      ]
     },
     "execution_count": 245,
     "metadata": {},
     "output_type": "execute_result"
    },
    {
     "data": {
      "image/png": "[encoded data removed]",
      "text/plain": [
       "<Figure size 1080x720 with 1 Axes>"
      ]
     },
     "metadata": {
      "needs_background": "light"
     },
     "output_type": "display_data"
    }
   ],
   "source": [
    "spread.plot(figsize =(15,10))"
   ]
  },
  {
   "cell_type": "code",
   "execution_count": null,
   "metadata": {},
   "outputs": [],
   "source": []
  }
 ],
 "metadata": {
  "kernelspec": {
   "display_name": "Python 3",
   "language": "python",
   "name": "python3"
  },
  "language_info": {
   "codemirror_mode": {
    "name": "ipython",
    "version": 3
   },
   "file_extension": ".py",
   "mimetype": "text/x-python",
   "name": "python",
   "nbconvert_exporter": "python",
   "pygments_lexer": "ipython3",
   "version": "3.7.1"
  }
 },
 "nbformat": 4,
 "nbformat_minor": 2
}
