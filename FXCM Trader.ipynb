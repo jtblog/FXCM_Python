{
 "cells": [
  {
   "cell_type": "code",
   "execution_count": 13,
   "metadata": {},
   "outputs": [],
   "source": [
    "import requests"
   ]
  },
  {
   "cell_type": "code",
   "execution_count": null,
   "metadata": {},
   "outputs": [],
   "source": [
    "#!pip install fxcmpy\n",
    "!pip install -r requirements.txt"
   ]
  },
  {
   "cell_type": "code",
   "execution_count": 23,
   "metadata": {},
   "outputs": [],
   "source": [
    "import json\n",
    "from importlib import reload\n",
    "import fxcm_rest_api_token as fxcm_rest_api\n",
    "result = reload(fxcm_rest_api)"
   ]
  },
  {
   "cell_type": "code",
   "execution_count": null,
   "metadata": {},
   "outputs": [],
   "source": [
    "trader = fxcm_rest_api.Trader('ca93e4067bf56af37242d31940089c7bb83fc7d2', 'demo')\n",
    "trader.debug_level = \"INFO\"\n",
    "trader.login()"
   ]
  },
  {
   "cell_type": "code",
   "execution_count": 35,
   "metadata": {},
   "outputs": [
    {
     "name": "stderr",
     "output_type": "stream",
     "text": [
      "2018-12-24 16:19:11,074 - ca93e4067bf56af37242d31940089c7bb83fc7d2_demo_70ef283f - INFO - https://api-demo.fxcm.com/candles/1/m1{'num': 2}\n"
     ]
    },
    {
     "name": "stdout",
     "output_type": "stream",
     "text": [
      "2\n",
      "[1545664620, 1.14241, 1.1424, 1.14248, 1.14237, 1.14253, 1.14253, 1.14261, 1.1425, 569, '2018/12/24 16:17:00']\n",
      "[1545664680, 1.1424, 1.1424, 1.14247, 1.14236, 1.14253, 1.14254, 1.14259, 1.1425, 465, '2018/12/24 16:18:00']\n"
     ]
    }
   ],
   "source": [
    "c =trader.candles(\"EUR/USD\", \"m1\", 2, dt_fmt=\"%Y/%m/%d %H:%M:%S\")['candles']\n",
    "print(len(c))\n",
    "for candle in c:\n",
    "    print(candle)"
   ]
  },
  {
   "cell_type": "code",
   "execution_count": 36,
   "metadata": {},
   "outputs": [
    {
     "name": "stderr",
     "output_type": "stream",
     "text": [
      "2018-12-24 16:19:45,721 - ca93e4067bf56af37242d31940089c7bb83fc7d2_demo_70ef283f - INFO - https://api-demo.fxcm.com/logout{}\n"
     ]
    }
   ],
   "source": [
    "trader.logout()"
   ]
  },
  {
   "cell_type": "code",
   "execution_count": null,
   "metadata": {},
   "outputs": [],
   "source": []
  }
 ],
 "metadata": {
  "kernelspec": {
   "display_name": "Python 3",
   "language": "python",
   "name": "python3"
  },
  "language_info": {
   "codemirror_mode": {
    "name": "ipython",
    "version": 3
   },
   "file_extension": ".py",
   "mimetype": "text/x-python",
   "name": "python",
   "nbconvert_exporter": "python",
   "pygments_lexer": "ipython3",
   "version": "3.7.1"
  }
 },
 "nbformat": 4,
 "nbformat_minor": 2
}
