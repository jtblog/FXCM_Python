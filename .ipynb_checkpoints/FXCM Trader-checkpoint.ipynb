{
 "cells": [
  {
   "cell_type": "code",
   "execution_count": null,
   "metadata": {},
   "outputs": [],
   "source": [
    "#!pip install -r requirements.txt\n",
    "#!pip install fxcmpy\n",
    "#!pip install forexconnect"
   ]
  },
  {
   "cell_type": "code",
   "execution_count": null,
   "metadata": {},
   "outputs": [],
   "source": [
    "from forexconnect import fxcorepy\n",
    "import requests\n",
    "import fxcmpy\n",
    "import numpy as np\n",
    "import pandas as pd"
   ]
  },
  {
   "cell_type": "code",
   "execution_count": null,
   "metadata": {},
   "outputs": [],
   "source": [
    "#fxcmpy.__version__"
   ]
  },
  {
   "cell_type": "markdown",
   "metadata": {},
   "source": [
    "Get access token from https://tradingstation.fxcm.com."
   ]
  },
  {
   "cell_type": "markdown",
   "metadata": {},
   "source": [
    "demo - for account type demo"
   ]
  },
  {
   "cell_type": "markdown",
   "metadata": {},
   "source": [
    "real - for account type real"
   ]
  },
  {
   "cell_type": "code",
   "execution_count": null,
   "metadata": {},
   "outputs": [],
   "source": [
    "TOKEN = 'ca93e4067bf56af37242d31940089c7bb83fc7d2'\n",
    "con = fxcmpy.fxcmpy(access_token=TOKEN, log_level='error', server='demo')\n",
    "con.connect()"
   ]
  },
  {
   "cell_type": "code",
   "execution_count": null,
   "metadata": {},
   "outputs": [],
   "source": [
    "con.is_connected()"
   ]
  },
  {
   "cell_type": "code",
   "execution_count": null,
   "metadata": {},
   "outputs": [],
   "source": [
    "data = con.get_candles('EUR/USD', period='m1', number=1)\n",
    "data\n",
    "#type(data)\n",
    "#print(data)\n",
    "#prices = list( data['askclose'] + data['bidclose'] / 2)\n",
    "#d = {'timestamp': timestamps, 'prices': prices, 'tickvolume': vols}\n",
    "#    df = pd.DataFrame(data = d)\n",
    "#    print(df)"
   ]
  },
  {
   "cell_type": "code",
   "execution_count": null,
   "metadata": {},
   "outputs": [],
   "source": [
    "instruments = con.get_instruments()"
   ]
  },
  {
   "cell_type": "code",
   "execution_count": null,
   "metadata": {},
   "outputs": [],
   "source": [
    "#result = con.subscribe_market_data(instruments[0])\n",
    "#con.is_subscribed(instruments[0])"
   ]
  },
  {
   "cell_type": "code",
   "execution_count": null,
   "metadata": {},
   "outputs": [],
   "source": [
    "#con.get_subscribed_symbols()"
   ]
  },
  {
   "cell_type": "code",
   "execution_count": null,
   "metadata": {},
   "outputs": [],
   "source": [
    "#con.get_default_account()"
   ]
  },
  {
   "cell_type": "code",
   "execution_count": null,
   "metadata": {},
   "outputs": [],
   "source": [
    "def output(data, dataframe):\n",
    "    print('%3d | %s | %s | %6.4f, %6.4f, %6.4f, %6.4f' \n",
    "          % (len(dataframe), data['Symbol'],\n",
    "             pd.to_datetime(int(data['Updated']), unit='ms'), \n",
    "             data['Rates'][0], data['Rates'][1],\n",
    "             data['Rates'][2], data['Rates'][3]))"
   ]
  },
  {
   "cell_type": "code",
   "execution_count": null,
   "metadata": {},
   "outputs": [],
   "source": [
    "con.subscribe_market_data('EUR/USD')"
   ]
  },
  {
   "cell_type": "code",
   "execution_count": null,
   "metadata": {},
   "outputs": [],
   "source": [
    "#data = con.get_prices('EUR/USD')"
   ]
  },
  {
   "cell_type": "code",
   "execution_count": null,
   "metadata": {},
   "outputs": [],
   "source": [
    "con.get_prices('EUR/USD')"
   ]
  },
  {
   "cell_type": "code",
   "execution_count": null,
   "metadata": {},
   "outputs": [],
   "source": [
    "help(con)"
   ]
  }
 ],
 "metadata": {
  "kernelspec": {
   "display_name": "Python 3",
   "language": "python",
   "name": "python3"
  },
  "language_info": {
   "codemirror_mode": {
    "name": "ipython",
    "version": 3
   },
   "file_extension": ".py",
   "mimetype": "text/x-python",
   "name": "python",
   "nbconvert_exporter": "python",
   "pygments_lexer": "ipython3",
   "version": "3.7.1"
  }
 },
 "nbformat": 4,
 "nbformat_minor": 2
}
