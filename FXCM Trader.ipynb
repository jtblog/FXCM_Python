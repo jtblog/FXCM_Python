{
 "cells": [
  {
   "cell_type": "code",
   "execution_count": null,
   "metadata": {},
   "outputs": [],
   "source": [
    "#!pip install -r requirements.txt\n",
    "#!pip install fxcmpy\n",
    "#!pip install forexconnect"
   ]
  },
  {
   "cell_type": "code",
   "execution_count": null,
   "metadata": {},
   "outputs": [],
   "source": [
    "import os\n",
    "import threading\n",
    "import time\n",
    "import importlib\n",
    "import sys\n",
    "mpath = os.getcwd() + '/lib'\n",
    "sys.path.append(mpath)"
   ]
  },
  {
   "cell_type": "code",
   "execution_count": null,
   "metadata": {},
   "outputs": [],
   "source": [
    "#from forexconnect import fxcorepy\n",
    "import requests\n",
    "import fxcmpy\n",
    "import pandas as pd\n",
    "\n",
    "import SharedObjects\n",
    "import pairs\n",
    "importlib.reload(SharedObjects)\n",
    "importlib.reload(fxcmpy)\n",
    "importlib.reload(pairs)\n",
    "\n",
    "import numpy as np"
   ]
  },
  {
   "cell_type": "code",
   "execution_count": null,
   "metadata": {},
   "outputs": [],
   "source": [
    "#fxcmpy.__version__"
   ]
  },
  {
   "cell_type": "markdown",
   "metadata": {},
   "source": [
    "minutes: m1, m5, m15 and m30,\n",
    "hours: H1, H2, H3, H4, H6 and H8,\n",
    "one day: D1,\n",
    "one week: W1,\n",
    "one month: M1."
   ]
  },
  {
   "cell_type": "code",
   "execution_count": null,
   "metadata": {},
   "outputs": [],
   "source": [
    "#Set variables\n",
    "T = 'm1' #Period\n",
    "sz = 300; #Size\n",
    "prs = dict()"
   ]
  },
  {
   "cell_type": "markdown",
   "metadata": {},
   "source": [
    "Get access token from https://tradingstation.fxcm.com."
   ]
  },
  {
   "cell_type": "markdown",
   "metadata": {},
   "source": [
    "demo - for account type demo"
   ]
  },
  {
   "cell_type": "markdown",
   "metadata": {},
   "source": [
    "real - for account type real"
   ]
  },
  {
   "cell_type": "code",
   "execution_count": null,
   "metadata": {},
   "outputs": [],
   "source": [
    "TOKEN = 'ca93e4067bf56af37242d31940089c7bb83fc7d2'\n",
    "con = fxcmpy.fxcmpy(access_token=TOKEN, log_level='error', server='demo')\n",
    "shd_obj = SharedObjects.SharedObjects(con)\n",
    "\n",
    "#con.close()\n",
    "#con.is_connected()"
   ]
  },
  {
   "cell_type": "code",
   "execution_count": null,
   "metadata": {},
   "outputs": [],
   "source": [
    "#Function to update data\n",
    "def price_update(data, dataframe):\n",
    "    symbol = data['Symbol']\n",
    "    #print(symbol)\n",
    "    #if( (symbol in prs) == True):\n",
    "    #    for key, val in prs.items():\n",
    "    #        if(val.sym == symbol):\n",
    "    #            print(val.update(dataframe))\n",
    "    #            break"
   ]
  },
  {
   "cell_type": "code",
   "execution_count": null,
   "metadata": {},
   "outputs": [],
   "source": [
    "try:\n",
    "    def get_past_prices():\n",
    "        for symbol in shd_obj.tradable_pairs:\n",
    "            dtf = shd_obj.historical_data(symbol, T, sz)\n",
    "            if symbol not in prs:\n",
    "                prs[symbol] = pairs.Pair(symbol, dtf)\n",
    "                shd_obj.stream_data(symbol, (price_update, prs.get(symbol).on_price_update) )\n",
    "            \n",
    "    threading.Thread(target=get_past_prices).start()\n",
    "except:\n",
    "    print(\"Error: unable to start thread\")"
   ]
  },
  {
   "cell_type": "code",
   "execution_count": null,
   "metadata": {},
   "outputs": [],
   "source": [
    "shd_obj.unstream_data()"
   ]
  },
  {
   "cell_type": "code",
   "execution_count": null,
   "metadata": {},
   "outputs": [],
   "source": [
    "con.close()"
   ]
  },
  {
   "cell_type": "code",
   "execution_count": null,
   "metadata": {},
   "outputs": [],
   "source": [
    "#status = shd_obj.get_status()\n",
    "#if(status == 'You are logged in'):\n",
    "    #shd_obj.stream_data(T, sz, price_update)"
   ]
  },
  {
   "cell_type": "code",
   "execution_count": null,
   "metadata": {},
   "outputs": [],
   "source": [
    "##Reverses the dataframe rows\n",
    "#df[::-1]\n",
    "\n",
    "#c = df.drop(columns=['tickvolume'])\n",
    "#dates[0].minute\n",
    "#dates[0].hour\n",
    "\n",
    "#con.is_subscribed(instruments[0])\n",
    "#con.get_subscribed_symbols()\n",
    "\n",
    "#con.unsubscribe_market_data('EUR/USD')\n",
    "#print(shd_obj.pairs)\n",
    "#con.close()"
   ]
  },
  {
   "cell_type": "code",
   "execution_count": null,
   "metadata": {},
   "outputs": [],
   "source": [
    "#con.get_default_account()\n",
    "#con.get_prices('EUR/USD')"
   ]
  },
  {
   "cell_type": "code",
   "execution_count": null,
   "metadata": {},
   "outputs": [],
   "source": [
    "#daf = pd.DataFrame()\n",
    "#symbol = ''\n",
    "#def print_data(data, dataframe):\n",
    "#    global daf\n",
    "#    global symbol\n",
    "#    symbol = data['Symbol']\n",
    "#    daf = dataframe\n",
    "#    print('%3d | %s | %s, %s, %s, %s, %s'\n",
    "#          % (len(dataframe), data['Symbol'],\n",
    "#             pd.to_datetime(int(data['Updated']), unit='ms'),\n",
    "#             data['Rates'][0], data['Rates'][1], data['Rates'][2],\n",
    "#             data['Rates'][3]))\n",
    "    #print(daf)"
   ]
  },
  {
   "cell_type": "code",
   "execution_count": null,
   "metadata": {},
   "outputs": [],
   "source": [
    "#import inspect\n",
    "#source_file_DF = inspect.getsource(con.subscribe_market_data)\n",
    "#print(source_file_DF)"
   ]
  },
  {
   "cell_type": "code",
   "execution_count": null,
   "metadata": {},
   "outputs": [],
   "source": [
    "prs.get('Copper').prices"
   ]
  },
  {
   "cell_type": "code",
   "execution_count": null,
   "metadata": {},
   "outputs": [],
   "source": []
  }
 ],
 "metadata": {
  "kernelspec": {
   "display_name": "Python 3",
   "language": "python",
   "name": "python3"
  },
  "language_info": {
   "codemirror_mode": {
    "name": "ipython",
    "version": 3
   },
   "file_extension": ".py",
   "mimetype": "text/x-python",
   "name": "python",
   "nbconvert_exporter": "python",
   "pygments_lexer": "ipython3",
   "version": "3.7.1"
  }
 },
 "nbformat": 4,
 "nbformat_minor": 2
}
