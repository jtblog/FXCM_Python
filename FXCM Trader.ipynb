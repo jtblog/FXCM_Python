{
 "cells": [
  {
   "cell_type": "code",
   "execution_count": 1,
   "metadata": {},
   "outputs": [
    {
     "data": {
      "text/plain": [
       "True"
      ]
     },
     "execution_count": 1,
     "metadata": {},
     "output_type": "execute_result"
    }
   ],
   "source": [
    "import requests\n",
    "def connected_to_internet(url='http://www.google.com/', timeout=5):\n",
    "    try:\n",
    "        _ = requests.get(url, timeout=timeout)\n",
    "        return True\n",
    "    except requests.ConnectionError:\n",
    "        print(\"No internet connection available.\")\n",
    "    return False\n",
    "\n",
    "connected_to_internet()"
   ]
  },
  {
   "cell_type": "code",
   "execution_count": 2,
   "metadata": {},
   "outputs": [],
   "source": [
    "#!pip install -r requirements.txt\n",
    "#!pip install fxcmpy\n",
    "#!pip install forexconnect\n",
    "#!pip install sklearn"
   ]
  },
  {
   "cell_type": "code",
   "execution_count": null,
   "metadata": {},
   "outputs": [],
   "source": []
  },
  {
   "cell_type": "code",
   "execution_count": 3,
   "metadata": {},
   "outputs": [],
   "source": [
    "import os\n",
    "import threading\n",
    "import time\n",
    "import importlib\n",
    "import sys\n",
    "mpath = os.getcwd() + '/lib'\n",
    "sys.path.append(mpath)"
   ]
  },
  {
   "cell_type": "code",
   "execution_count": 5,
   "metadata": {},
   "outputs": [],
   "source": [
    "#from forexconnect import fxcorepy\n",
    "import fxcmpyi\n",
    "from sklearn import *\n",
    "import pandas as pd\n",
    "\n",
    "import SharedObjects\n",
    "import pairs\n",
    "importlib.reload(SharedObjects)\n",
    "importlib.reload(fxcmpyi)\n",
    "importlib.reload(pairs)\n",
    "#importlib.reload(sklearn)\n",
    "\n",
    "import numpy as np"
   ]
  },
  {
   "cell_type": "code",
   "execution_count": 6,
   "metadata": {},
   "outputs": [],
   "source": [
    "#fxcmpy.__version__"
   ]
  },
  {
   "cell_type": "markdown",
   "metadata": {},
   "source": [
    "minutes: m1, m5, m15 and m30,\n",
    "hours: H1, H2, H3, H4, H6 and H8,\n",
    "one day: D1,\n",
    "one week: W1,\n",
    "one month: M1."
   ]
  },
  {
   "cell_type": "code",
   "execution_count": 7,
   "metadata": {},
   "outputs": [],
   "source": [
    "#Set variables\n",
    "T = 'm1' #Period\n",
    "sz = 300; #Size\n",
    "prs = dict()"
   ]
  },
  {
   "cell_type": "markdown",
   "metadata": {},
   "source": [
    "Get access token from https://tradingstation.fxcm.com."
   ]
  },
  {
   "cell_type": "markdown",
   "metadata": {},
   "source": [
    "demo - for account type demo"
   ]
  },
  {
   "cell_type": "markdown",
   "metadata": {},
   "source": [
    "real - for account type real"
   ]
  },
  {
   "cell_type": "code",
   "execution_count": 8,
   "metadata": {},
   "outputs": [],
   "source": [
    "con = None\n",
    "def custom():\n",
    "    global con\n",
    "    try:\n",
    "        def login():\n",
    "            global con\n",
    "            TOKEN = '2720337434ea557dea25bad4cd9ad392d70f620d'\n",
    "            con = fxcmpyi.fxcmpy(access_token=TOKEN, log_level='error', server='demo')\n",
    "        threading.Thread(target=login).start()\n",
    "    except:\n",
    "        custom()\n",
    "custom()\n",
    "#con.close()"
   ]
  },
  {
   "cell_type": "code",
   "execution_count": 14,
   "metadata": {},
   "outputs": [
    {
     "name": "stdout",
     "output_type": "stream",
     "text": [
      "True\n"
     ]
    }
   ],
   "source": [
    "if con is not None:\n",
    "    print(con.is_connected())\n",
    "    shd_obj = SharedObjects.SharedObjects(con)"
   ]
  },
  {
   "cell_type": "code",
   "execution_count": 15,
   "metadata": {},
   "outputs": [],
   "source": [
    "#Function to update data\n",
    "def price_update(data, dataframe):\n",
    "    symbol = data['Symbol']\n",
    "    #print(symbol)\n",
    "    #if( (symbol in prs) == True):\n",
    "    #    for key, val in prs.items():\n",
    "    #        if(val.sym == symbol):\n",
    "    #            print(val.update(dataframe))\n",
    "    #            break"
   ]
  },
  {
   "cell_type": "code",
   "execution_count": 16,
   "metadata": {},
   "outputs": [],
   "source": [
    "try:\n",
    "    def get_past_prices():\n",
    "        for symbol in shd_obj.tradable_pairs:\n",
    "            dtf = shd_obj.historical_data(symbol, T, sz)\n",
    "            if symbol not in prs:\n",
    "                prs[symbol] = pairs.Pair(symbol, dtf)\n",
    "                shd_obj.stream_data(symbol, (price_update, prs.get(symbol).on_price_update) )\n",
    "            \n",
    "    threading.Thread(target=get_past_prices).start()\n",
    "except:\n",
    "    print(\"Error: unable to start thread\")"
   ]
  },
  {
   "cell_type": "code",
   "execution_count": 81,
   "metadata": {},
   "outputs": [],
   "source": [
    "#shd_obj.unstream_data()"
   ]
  },
  {
   "cell_type": "code",
   "execution_count": 82,
   "metadata": {},
   "outputs": [],
   "source": [
    "#con.close()"
   ]
  },
  {
   "cell_type": "code",
   "execution_count": null,
   "metadata": {},
   "outputs": [],
   "source": [
    "#status = shd_obj.get_status()\n",
    "#if(status == 'You are logged in'):\n",
    "    #shd_obj.stream_data(T, sz, price_update)"
   ]
  },
  {
   "cell_type": "code",
   "execution_count": null,
   "metadata": {},
   "outputs": [],
   "source": [
    "##Reverses the dataframe rows\n",
    "#df[::-1]\n",
    "\n",
    "#c = df.drop(columns=['tickvolume'])\n",
    "#dates[0].minute\n",
    "#dates[0].hour\n",
    "\n",
    "#con.is_subscribed(instruments[0])\n",
    "#con.get_subscribed_symbols()\n",
    "\n",
    "#con.unsubscribe_market_data('EUR/USD')\n",
    "#print(shd_obj.pairs)\n",
    "#con.close()"
   ]
  },
  {
   "cell_type": "code",
   "execution_count": null,
   "metadata": {},
   "outputs": [],
   "source": [
    "#con.get_default_account()\n",
    "#con.get_prices('EUR/USD')"
   ]
  },
  {
   "cell_type": "code",
   "execution_count": null,
   "metadata": {},
   "outputs": [],
   "source": [
    "#daf = pd.DataFrame()\n",
    "#symbol = ''\n",
    "#def print_data(data, dataframe):\n",
    "#    global daf\n",
    "#    global symbol\n",
    "#    symbol = data['Symbol']\n",
    "#    daf = dataframe\n",
    "#    print('%3d | %s | %s, %s, %s, %s, %s'\n",
    "#          % (len(dataframe), data['Symbol'],\n",
    "#             pd.to_datetime(int(data['Updated']), unit='ms'),\n",
    "#             data['Rates'][0], data['Rates'][1], data['Rates'][2],\n",
    "#             data['Rates'][3]))\n",
    "    #print(daf)"
   ]
  },
  {
   "cell_type": "code",
   "execution_count": null,
   "metadata": {},
   "outputs": [],
   "source": [
    "#import inspect\n",
    "#source_file_DF = inspect.getsource(pd.concat)\n",
    "#print(source_file_DF)"
   ]
  },
  {
   "cell_type": "code",
   "execution_count": 79,
   "metadata": {},
   "outputs": [],
   "source": [
    "dtf = list()\n",
    "\n",
    "lm = linear_model.LinearRegression()\n",
    "for key in prs:\n",
    "    keys = set(prs.keys())\n",
    "    excludes = set([key])\n",
    "    diff = keys.difference(excludes)\n",
    "    x = pd.DataFrame()\n",
    "    y = prs.get(key).prices['Close'].tolist()\n",
    "\n",
    "    for ky in diff:\n",
    "        x[ky] = prs.get(ky).prices['Close'].tolist()\n",
    "    model = lm.fit(x,y)\n",
    "    \n",
    "    #R squared\n",
    "    rs = lm.score(x,y)\n",
    "    #Coefficients\n",
    "    bs = model.coef_.tolist()\n",
    "    #Intercept\n",
    "    intercept = model.intercept_\n",
    "    #Prediction (first)\n",
    "    pred = lm.predict(x)[0]\n",
    "\n",
    "    dez = {}\n",
    "    if(y[len(y)-1] > pred):\n",
    "        dez = {True: 'SELL', False: 'BUY'}\n",
    "    elif(y[len(y)-1] < pred):\n",
    "        dez = {True: 'BUY', False: 'SELL'}\n",
    "    dez[1.0] = dez[True]\n",
    "    dez[-1.0] = dez[False] \n",
    "\n",
    "    df = pd.DataFrame(index = [key, dez[True]])\n",
    "    df['R_Squared'] = [rs, '']\n",
    "    #df['Current'] = [y[len(y)-1], '-' ]\n",
    "    df['Prediction'] = [pred, '' ]\n",
    "    df['Intercept'] = [intercept, '-']\n",
    "    hd = x.columns.tolist()\n",
    "    for s in hd:\n",
    "        c = bs[hd.index(s)]\n",
    "        sgn = np.sign(c)\n",
    "        df[s] = [c, dez[sgn] ]\n",
    "\n",
    "    dtf.append(df)"
   ]
  },
  {
   "cell_type": "code",
   "execution_count": 80,
   "metadata": {},
   "outputs": [
    {
     "data": {
      "text/html": [
       "<div>\n",
       "<style scoped>\n",
       "    .dataframe tbody tr th:only-of-type {\n",
       "        vertical-align: middle;\n",
       "    }\n",
       "\n",
       "    .dataframe tbody tr th {\n",
       "        vertical-align: top;\n",
       "    }\n",
       "\n",
       "    .dataframe thead th {\n",
       "        text-align: right;\n",
       "    }\n",
       "</style>\n",
       "<table border=\"1\" class=\"dataframe\">\n",
       "  <thead>\n",
       "    <tr style=\"text-align: right;\">\n",
       "      <th></th>\n",
       "      <th>R_Squared</th>\n",
       "      <th>Prediction</th>\n",
       "      <th>Intercept</th>\n",
       "      <th>GBP/USD</th>\n",
       "      <th>USD/CAD</th>\n",
       "      <th>Copper</th>\n",
       "      <th>AUD/USD</th>\n",
       "      <th>ZAR/JPY</th>\n",
       "      <th>USD/ZAR</th>\n",
       "      <th>NZD/USD</th>\n",
       "      <th>EUR/GBP</th>\n",
       "      <th>USD/CHF</th>\n",
       "      <th>EUR/USD</th>\n",
       "    </tr>\n",
       "  </thead>\n",
       "  <tbody>\n",
       "    <tr>\n",
       "      <th>USD/JPY</th>\n",
       "      <td>0.96447</td>\n",
       "      <td>110.747</td>\n",
       "      <td>-48.7902</td>\n",
       "      <td>-30.4856</td>\n",
       "      <td>-2.50146</td>\n",
       "      <td>-0.637445</td>\n",
       "      <td>-0.644663</td>\n",
       "      <td>13.5785</td>\n",
       "      <td>6.9286</td>\n",
       "      <td>6.51602</td>\n",
       "      <td>-43.4836</td>\n",
       "      <td>-1.14502</td>\n",
       "      <td>31.146</td>\n",
       "    </tr>\n",
       "    <tr>\n",
       "      <th>BUY</th>\n",
       "      <td></td>\n",
       "      <td></td>\n",
       "      <td>-</td>\n",
       "      <td>SELL</td>\n",
       "      <td>SELL</td>\n",
       "      <td>SELL</td>\n",
       "      <td>SELL</td>\n",
       "      <td>BUY</td>\n",
       "      <td>BUY</td>\n",
       "      <td>BUY</td>\n",
       "      <td>SELL</td>\n",
       "      <td>SELL</td>\n",
       "      <td>BUY</td>\n",
       "    </tr>\n",
       "  </tbody>\n",
       "</table>\n",
       "</div>"
      ],
      "text/plain": [
       "        R_Squared Prediction Intercept  GBP/USD  USD/CAD    Copper   AUD/USD  \\\n",
       "USD/JPY   0.96447    110.747  -48.7902 -30.4856 -2.50146 -0.637445 -0.644663   \n",
       "BUY                                  -     SELL     SELL      SELL      SELL   \n",
       "\n",
       "         ZAR/JPY USD/ZAR  NZD/USD  EUR/GBP  USD/CHF EUR/USD  \n",
       "USD/JPY  13.5785  6.9286  6.51602 -43.4836 -1.14502  31.146  \n",
       "BUY          BUY     BUY      BUY     SELL     SELL     BUY  "
      ]
     },
     "execution_count": 80,
     "metadata": {},
     "output_type": "execute_result"
    }
   ],
   "source": [
    "dtf[1]"
   ]
  },
  {
   "cell_type": "code",
   "execution_count": null,
   "metadata": {},
   "outputs": [],
   "source": []
  }
 ],
 "metadata": {
  "kernelspec": {
   "display_name": "Python 3",
   "language": "python",
   "name": "python3"
  },
  "language_info": {
   "codemirror_mode": {
    "name": "ipython",
    "version": 3
   },
   "file_extension": ".py",
   "mimetype": "text/x-python",
   "name": "python",
   "nbconvert_exporter": "python",
   "pygments_lexer": "ipython3",
   "version": "3.7.1"
  }
 },
 "nbformat": 4,
 "nbformat_minor": 2
}
